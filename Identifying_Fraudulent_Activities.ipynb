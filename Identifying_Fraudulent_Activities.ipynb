{
  "nbformat": 4,
  "nbformat_minor": 0,
  "metadata": {
    "colab": {
      "name": "Identifying_Fraudulent_Activities.ipynb",
      "provenance": [],
      "collapsed_sections": [],
      "authorship_tag": "ABX9TyNd//COxY+xIki8Rhy6rD0L",
      "include_colab_link": true
    },
    "kernelspec": {
      "name": "python3",
      "display_name": "Python 3"
    }
  },
  "cells": [
    {
      "cell_type": "markdown",
      "metadata": {
        "id": "view-in-github",
        "colab_type": "text"
      },
      "source": [
        "<a href=\"https://colab.research.google.com/github/xtian20/data_project/blob/main/Identifying_Fraudulent_Activities.ipynb\" target=\"_parent\"><img src=\"https://colab.research.google.com/assets/colab-badge.svg\" alt=\"Open In Colab\"/></a>"
      ]
    },
    {
      "cell_type": "code",
      "metadata": {
        "id": "L2Qf1ahZjEvP"
      },
      "source": [
        "import numpy as np\n",
        "import pandas as pd \n",
        "import matplotlib.pyplot as plt \n",
        "import seaborn as sns\n",
        "%matplotlib inline \n",
        "\n",
        "from sklearn.metrics import auc, roc_curve, classification_report\n",
        "import h2o\n",
        "from h2o.frame import H2OFrame\n",
        "from h2o.estimators.random_forest import H2ORandomForestEstimator\n",
        "\n",
        "import warnings \n",
        "warnings.filterwarnings('ignore')"
      ],
      "execution_count": 1,
      "outputs": []
    },
    {
      "cell_type": "markdown",
      "metadata": {
        "id": "MbKRRRO1pTgc"
      },
      "source": [
        "# Load Datasets"
      ]
    },
    {
      "cell_type": "code",
      "metadata": {
        "colab": {
          "base_uri": "https://localhost:8080/",
          "height": 204
        },
        "id": "XR5fwyzlkP0l",
        "outputId": "7f7b8ce1-2630-484f-9d6a-0bfbb691f8ad"
      },
      "source": [
        "data = pd.read_csv('Fraud_Data.csv', parse_dates=['signup_time', 'purchase_time'])\n",
        "data.head()"
      ],
      "execution_count": 2,
      "outputs": [
        {
          "output_type": "execute_result",
          "data": {
            "text/html": [
              "<div>\n",
              "<style scoped>\n",
              "    .dataframe tbody tr th:only-of-type {\n",
              "        vertical-align: middle;\n",
              "    }\n",
              "\n",
              "    .dataframe tbody tr th {\n",
              "        vertical-align: top;\n",
              "    }\n",
              "\n",
              "    .dataframe thead th {\n",
              "        text-align: right;\n",
              "    }\n",
              "</style>\n",
              "<table border=\"1\" class=\"dataframe\">\n",
              "  <thead>\n",
              "    <tr style=\"text-align: right;\">\n",
              "      <th></th>\n",
              "      <th>user_id</th>\n",
              "      <th>signup_time</th>\n",
              "      <th>purchase_time</th>\n",
              "      <th>purchase_value</th>\n",
              "      <th>device_id</th>\n",
              "      <th>source</th>\n",
              "      <th>browser</th>\n",
              "      <th>sex</th>\n",
              "      <th>age</th>\n",
              "      <th>ip_address</th>\n",
              "      <th>class</th>\n",
              "    </tr>\n",
              "  </thead>\n",
              "  <tbody>\n",
              "    <tr>\n",
              "      <th>0</th>\n",
              "      <td>22058</td>\n",
              "      <td>2015-02-24 22:55:49</td>\n",
              "      <td>2015-04-18 02:47:11</td>\n",
              "      <td>34</td>\n",
              "      <td>QVPSPJUOCKZAR</td>\n",
              "      <td>SEO</td>\n",
              "      <td>Chrome</td>\n",
              "      <td>M</td>\n",
              "      <td>39</td>\n",
              "      <td>7.327584e+08</td>\n",
              "      <td>0</td>\n",
              "    </tr>\n",
              "    <tr>\n",
              "      <th>1</th>\n",
              "      <td>333320</td>\n",
              "      <td>2015-06-07 20:39:50</td>\n",
              "      <td>2015-06-08 01:38:54</td>\n",
              "      <td>16</td>\n",
              "      <td>EOGFQPIZPYXFZ</td>\n",
              "      <td>Ads</td>\n",
              "      <td>Chrome</td>\n",
              "      <td>F</td>\n",
              "      <td>53</td>\n",
              "      <td>3.503114e+08</td>\n",
              "      <td>0</td>\n",
              "    </tr>\n",
              "    <tr>\n",
              "      <th>2</th>\n",
              "      <td>1359</td>\n",
              "      <td>2015-01-01 18:52:44</td>\n",
              "      <td>2015-01-01 18:52:45</td>\n",
              "      <td>15</td>\n",
              "      <td>YSSKYOSJHPPLJ</td>\n",
              "      <td>SEO</td>\n",
              "      <td>Opera</td>\n",
              "      <td>M</td>\n",
              "      <td>53</td>\n",
              "      <td>2.621474e+09</td>\n",
              "      <td>1</td>\n",
              "    </tr>\n",
              "    <tr>\n",
              "      <th>3</th>\n",
              "      <td>150084</td>\n",
              "      <td>2015-04-28 21:13:25</td>\n",
              "      <td>2015-05-04 13:54:50</td>\n",
              "      <td>44</td>\n",
              "      <td>ATGTXKYKUDUQN</td>\n",
              "      <td>SEO</td>\n",
              "      <td>Safari</td>\n",
              "      <td>M</td>\n",
              "      <td>41</td>\n",
              "      <td>3.840542e+09</td>\n",
              "      <td>0</td>\n",
              "    </tr>\n",
              "    <tr>\n",
              "      <th>4</th>\n",
              "      <td>221365</td>\n",
              "      <td>2015-07-21 07:09:52</td>\n",
              "      <td>2015-09-09 18:40:53</td>\n",
              "      <td>39</td>\n",
              "      <td>NAUITBZFJKHWW</td>\n",
              "      <td>Ads</td>\n",
              "      <td>Safari</td>\n",
              "      <td>M</td>\n",
              "      <td>45</td>\n",
              "      <td>4.155831e+08</td>\n",
              "      <td>0</td>\n",
              "    </tr>\n",
              "  </tbody>\n",
              "</table>\n",
              "</div>"
            ],
            "text/plain": [
              "   user_id         signup_time       purchase_time  ...  age    ip_address class\n",
              "0    22058 2015-02-24 22:55:49 2015-04-18 02:47:11  ...   39  7.327584e+08     0\n",
              "1   333320 2015-06-07 20:39:50 2015-06-08 01:38:54  ...   53  3.503114e+08     0\n",
              "2     1359 2015-01-01 18:52:44 2015-01-01 18:52:45  ...   53  2.621474e+09     1\n",
              "3   150084 2015-04-28 21:13:25 2015-05-04 13:54:50  ...   41  3.840542e+09     0\n",
              "4   221365 2015-07-21 07:09:52 2015-09-09 18:40:53  ...   45  4.155831e+08     0\n",
              "\n",
              "[5 rows x 11 columns]"
            ]
          },
          "metadata": {
            "tags": []
          },
          "execution_count": 2
        }
      ]
    },
    {
      "cell_type": "code",
      "metadata": {
        "colab": {
          "base_uri": "https://localhost:8080/"
        },
        "id": "8drjPlClprpF",
        "outputId": "42659f76-0aea-4ede-b6d9-88c2f7faf21f"
      },
      "source": [
        "data.shape"
      ],
      "execution_count": 3,
      "outputs": [
        {
          "output_type": "execute_result",
          "data": {
            "text/plain": [
              "(151112, 11)"
            ]
          },
          "metadata": {
            "tags": []
          },
          "execution_count": 3
        }
      ]
    },
    {
      "cell_type": "code",
      "metadata": {
        "colab": {
          "base_uri": "https://localhost:8080/",
          "height": 204
        },
        "id": "FAGcpizkpXM3",
        "outputId": "37a54360-70b8-4671-f1fe-3058c3ebe278"
      },
      "source": [
        "address2country = pd.read_csv('IpAddress_to_Country.csv')\n",
        "address2country.head()"
      ],
      "execution_count": 4,
      "outputs": [
        {
          "output_type": "execute_result",
          "data": {
            "text/html": [
              "<div>\n",
              "<style scoped>\n",
              "    .dataframe tbody tr th:only-of-type {\n",
              "        vertical-align: middle;\n",
              "    }\n",
              "\n",
              "    .dataframe tbody tr th {\n",
              "        vertical-align: top;\n",
              "    }\n",
              "\n",
              "    .dataframe thead th {\n",
              "        text-align: right;\n",
              "    }\n",
              "</style>\n",
              "<table border=\"1\" class=\"dataframe\">\n",
              "  <thead>\n",
              "    <tr style=\"text-align: right;\">\n",
              "      <th></th>\n",
              "      <th>lower_bound_ip_address</th>\n",
              "      <th>upper_bound_ip_address</th>\n",
              "      <th>country</th>\n",
              "    </tr>\n",
              "  </thead>\n",
              "  <tbody>\n",
              "    <tr>\n",
              "      <th>0</th>\n",
              "      <td>16777216.0</td>\n",
              "      <td>16777471</td>\n",
              "      <td>Australia</td>\n",
              "    </tr>\n",
              "    <tr>\n",
              "      <th>1</th>\n",
              "      <td>16777472.0</td>\n",
              "      <td>16777727</td>\n",
              "      <td>China</td>\n",
              "    </tr>\n",
              "    <tr>\n",
              "      <th>2</th>\n",
              "      <td>16777728.0</td>\n",
              "      <td>16778239</td>\n",
              "      <td>China</td>\n",
              "    </tr>\n",
              "    <tr>\n",
              "      <th>3</th>\n",
              "      <td>16778240.0</td>\n",
              "      <td>16779263</td>\n",
              "      <td>Australia</td>\n",
              "    </tr>\n",
              "    <tr>\n",
              "      <th>4</th>\n",
              "      <td>16779264.0</td>\n",
              "      <td>16781311</td>\n",
              "      <td>China</td>\n",
              "    </tr>\n",
              "  </tbody>\n",
              "</table>\n",
              "</div>"
            ],
            "text/plain": [
              "   lower_bound_ip_address  upper_bound_ip_address    country\n",
              "0              16777216.0                16777471  Australia\n",
              "1              16777472.0                16777727      China\n",
              "2              16777728.0                16778239      China\n",
              "3              16778240.0                16779263  Australia\n",
              "4              16779264.0                16781311      China"
            ]
          },
          "metadata": {
            "tags": []
          },
          "execution_count": 4
        }
      ]
    },
    {
      "cell_type": "code",
      "metadata": {
        "colab": {
          "base_uri": "https://localhost:8080/"
        },
        "id": "9rOWEW_Ops4g",
        "outputId": "3935b06c-1ad1-4752-c050-46b2fac97ce2"
      },
      "source": [
        "address2country.shape"
      ],
      "execution_count": 5,
      "outputs": [
        {
          "output_type": "execute_result",
          "data": {
            "text/plain": [
              "(138846, 3)"
            ]
          },
          "metadata": {
            "tags": []
          },
          "execution_count": 5
        }
      ]
    },
    {
      "cell_type": "code",
      "metadata": {
        "colab": {
          "base_uri": "https://localhost:8080/",
          "height": 297
        },
        "id": "CIlYbY040KC7",
        "outputId": "ba321e61-0e0b-4383-99af-0d733bd22b31"
      },
      "source": [
        "data.describe()"
      ],
      "execution_count": 6,
      "outputs": [
        {
          "output_type": "execute_result",
          "data": {
            "text/html": [
              "<div>\n",
              "<style scoped>\n",
              "    .dataframe tbody tr th:only-of-type {\n",
              "        vertical-align: middle;\n",
              "    }\n",
              "\n",
              "    .dataframe tbody tr th {\n",
              "        vertical-align: top;\n",
              "    }\n",
              "\n",
              "    .dataframe thead th {\n",
              "        text-align: right;\n",
              "    }\n",
              "</style>\n",
              "<table border=\"1\" class=\"dataframe\">\n",
              "  <thead>\n",
              "    <tr style=\"text-align: right;\">\n",
              "      <th></th>\n",
              "      <th>user_id</th>\n",
              "      <th>purchase_value</th>\n",
              "      <th>age</th>\n",
              "      <th>ip_address</th>\n",
              "      <th>class</th>\n",
              "    </tr>\n",
              "  </thead>\n",
              "  <tbody>\n",
              "    <tr>\n",
              "      <th>count</th>\n",
              "      <td>151112.000000</td>\n",
              "      <td>151112.000000</td>\n",
              "      <td>151112.000000</td>\n",
              "      <td>1.511120e+05</td>\n",
              "      <td>151112.000000</td>\n",
              "    </tr>\n",
              "    <tr>\n",
              "      <th>mean</th>\n",
              "      <td>200171.040970</td>\n",
              "      <td>36.935372</td>\n",
              "      <td>33.140704</td>\n",
              "      <td>2.152145e+09</td>\n",
              "      <td>0.093646</td>\n",
              "    </tr>\n",
              "    <tr>\n",
              "      <th>std</th>\n",
              "      <td>115369.285024</td>\n",
              "      <td>18.322762</td>\n",
              "      <td>8.617733</td>\n",
              "      <td>1.248497e+09</td>\n",
              "      <td>0.291336</td>\n",
              "    </tr>\n",
              "    <tr>\n",
              "      <th>min</th>\n",
              "      <td>2.000000</td>\n",
              "      <td>9.000000</td>\n",
              "      <td>18.000000</td>\n",
              "      <td>5.209350e+04</td>\n",
              "      <td>0.000000</td>\n",
              "    </tr>\n",
              "    <tr>\n",
              "      <th>25%</th>\n",
              "      <td>100642.500000</td>\n",
              "      <td>22.000000</td>\n",
              "      <td>27.000000</td>\n",
              "      <td>1.085934e+09</td>\n",
              "      <td>0.000000</td>\n",
              "    </tr>\n",
              "    <tr>\n",
              "      <th>50%</th>\n",
              "      <td>199958.000000</td>\n",
              "      <td>35.000000</td>\n",
              "      <td>33.000000</td>\n",
              "      <td>2.154770e+09</td>\n",
              "      <td>0.000000</td>\n",
              "    </tr>\n",
              "    <tr>\n",
              "      <th>75%</th>\n",
              "      <td>300054.000000</td>\n",
              "      <td>49.000000</td>\n",
              "      <td>39.000000</td>\n",
              "      <td>3.243258e+09</td>\n",
              "      <td>0.000000</td>\n",
              "    </tr>\n",
              "    <tr>\n",
              "      <th>max</th>\n",
              "      <td>400000.000000</td>\n",
              "      <td>154.000000</td>\n",
              "      <td>76.000000</td>\n",
              "      <td>4.294850e+09</td>\n",
              "      <td>1.000000</td>\n",
              "    </tr>\n",
              "  </tbody>\n",
              "</table>\n",
              "</div>"
            ],
            "text/plain": [
              "             user_id  purchase_value  ...    ip_address          class\n",
              "count  151112.000000   151112.000000  ...  1.511120e+05  151112.000000\n",
              "mean   200171.040970       36.935372  ...  2.152145e+09       0.093646\n",
              "std    115369.285024       18.322762  ...  1.248497e+09       0.291336\n",
              "min         2.000000        9.000000  ...  5.209350e+04       0.000000\n",
              "25%    100642.500000       22.000000  ...  1.085934e+09       0.000000\n",
              "50%    199958.000000       35.000000  ...  2.154770e+09       0.000000\n",
              "75%    300054.000000       49.000000  ...  3.243258e+09       0.000000\n",
              "max    400000.000000      154.000000  ...  4.294850e+09       1.000000\n",
              "\n",
              "[8 rows x 5 columns]"
            ]
          },
          "metadata": {
            "tags": []
          },
          "execution_count": 6
        }
      ]
    },
    {
      "cell_type": "markdown",
      "metadata": {
        "id": "_t-Hc7y2pjjX"
      },
      "source": [
        "## Load Country to Fraud Data"
      ]
    },
    {
      "cell_type": "code",
      "metadata": {
        "colab": {
          "base_uri": "https://localhost:8080/",
          "height": 204
        },
        "id": "rF6jCW5-pdym",
        "outputId": "32b8dd21-5de3-4c47-adf0-5004a2b05fd5"
      },
      "source": [
        "countries = []\n",
        "for i in range(len(data)):\n",
        "  ip_address = data.loc[i, 'ip_address']\n",
        "  tmp = address2country[(address2country['lower_bound_ip_address'] <= ip_address) & (address2country['upper_bound_ip_address'] >= ip_address)]\n",
        "\n",
        "  if len(tmp) == 1:\n",
        "    countries.append(tmp['country'].values[0])\n",
        "  else:\n",
        "    countries.append('NA')\n",
        "\n",
        "data['country'] = countries\n",
        "data.head()"
      ],
      "execution_count": 7,
      "outputs": [
        {
          "output_type": "execute_result",
          "data": {
            "text/html": [
              "<div>\n",
              "<style scoped>\n",
              "    .dataframe tbody tr th:only-of-type {\n",
              "        vertical-align: middle;\n",
              "    }\n",
              "\n",
              "    .dataframe tbody tr th {\n",
              "        vertical-align: top;\n",
              "    }\n",
              "\n",
              "    .dataframe thead th {\n",
              "        text-align: right;\n",
              "    }\n",
              "</style>\n",
              "<table border=\"1\" class=\"dataframe\">\n",
              "  <thead>\n",
              "    <tr style=\"text-align: right;\">\n",
              "      <th></th>\n",
              "      <th>user_id</th>\n",
              "      <th>signup_time</th>\n",
              "      <th>purchase_time</th>\n",
              "      <th>purchase_value</th>\n",
              "      <th>device_id</th>\n",
              "      <th>source</th>\n",
              "      <th>browser</th>\n",
              "      <th>sex</th>\n",
              "      <th>age</th>\n",
              "      <th>ip_address</th>\n",
              "      <th>class</th>\n",
              "      <th>country</th>\n",
              "    </tr>\n",
              "  </thead>\n",
              "  <tbody>\n",
              "    <tr>\n",
              "      <th>0</th>\n",
              "      <td>22058</td>\n",
              "      <td>2015-02-24 22:55:49</td>\n",
              "      <td>2015-04-18 02:47:11</td>\n",
              "      <td>34</td>\n",
              "      <td>QVPSPJUOCKZAR</td>\n",
              "      <td>SEO</td>\n",
              "      <td>Chrome</td>\n",
              "      <td>M</td>\n",
              "      <td>39</td>\n",
              "      <td>7.327584e+08</td>\n",
              "      <td>0</td>\n",
              "      <td>Japan</td>\n",
              "    </tr>\n",
              "    <tr>\n",
              "      <th>1</th>\n",
              "      <td>333320</td>\n",
              "      <td>2015-06-07 20:39:50</td>\n",
              "      <td>2015-06-08 01:38:54</td>\n",
              "      <td>16</td>\n",
              "      <td>EOGFQPIZPYXFZ</td>\n",
              "      <td>Ads</td>\n",
              "      <td>Chrome</td>\n",
              "      <td>F</td>\n",
              "      <td>53</td>\n",
              "      <td>3.503114e+08</td>\n",
              "      <td>0</td>\n",
              "      <td>United States</td>\n",
              "    </tr>\n",
              "    <tr>\n",
              "      <th>2</th>\n",
              "      <td>1359</td>\n",
              "      <td>2015-01-01 18:52:44</td>\n",
              "      <td>2015-01-01 18:52:45</td>\n",
              "      <td>15</td>\n",
              "      <td>YSSKYOSJHPPLJ</td>\n",
              "      <td>SEO</td>\n",
              "      <td>Opera</td>\n",
              "      <td>M</td>\n",
              "      <td>53</td>\n",
              "      <td>2.621474e+09</td>\n",
              "      <td>1</td>\n",
              "      <td>United States</td>\n",
              "    </tr>\n",
              "    <tr>\n",
              "      <th>3</th>\n",
              "      <td>150084</td>\n",
              "      <td>2015-04-28 21:13:25</td>\n",
              "      <td>2015-05-04 13:54:50</td>\n",
              "      <td>44</td>\n",
              "      <td>ATGTXKYKUDUQN</td>\n",
              "      <td>SEO</td>\n",
              "      <td>Safari</td>\n",
              "      <td>M</td>\n",
              "      <td>41</td>\n",
              "      <td>3.840542e+09</td>\n",
              "      <td>0</td>\n",
              "      <td>NA</td>\n",
              "    </tr>\n",
              "    <tr>\n",
              "      <th>4</th>\n",
              "      <td>221365</td>\n",
              "      <td>2015-07-21 07:09:52</td>\n",
              "      <td>2015-09-09 18:40:53</td>\n",
              "      <td>39</td>\n",
              "      <td>NAUITBZFJKHWW</td>\n",
              "      <td>Ads</td>\n",
              "      <td>Safari</td>\n",
              "      <td>M</td>\n",
              "      <td>45</td>\n",
              "      <td>4.155831e+08</td>\n",
              "      <td>0</td>\n",
              "      <td>United States</td>\n",
              "    </tr>\n",
              "  </tbody>\n",
              "</table>\n",
              "</div>"
            ],
            "text/plain": [
              "   user_id         signup_time  ... class        country\n",
              "0    22058 2015-02-24 22:55:49  ...     0          Japan\n",
              "1   333320 2015-06-07 20:39:50  ...     0  United States\n",
              "2     1359 2015-01-01 18:52:44  ...     1  United States\n",
              "3   150084 2015-04-28 21:13:25  ...     0             NA\n",
              "4   221365 2015-07-21 07:09:52  ...     0  United States\n",
              "\n",
              "[5 rows x 12 columns]"
            ]
          },
          "metadata": {
            "tags": []
          },
          "execution_count": 7
        }
      ]
    },
    {
      "cell_type": "markdown",
      "metadata": {
        "id": "-amsAhBQrHhu"
      },
      "source": [
        "# Feature Engineering "
      ]
    },
    {
      "cell_type": "markdown",
      "metadata": {
        "id": "lPa2roQgr9Sr"
      },
      "source": [
        "- Time difference between sign-up time and purchase time. \n",
        "- If the device id is unique or certain users are sharing the same device (**many different user ids using the same device could be an indicator of fake accounts**).\n",
        "- Same for the ip address. **Many different users having the same ip address could be an indicator of  fake accounts**. \n",
        "- Usual week of the year and day of week from time variable. "
      ]
    },
    {
      "cell_type": "code",
      "metadata": {
        "id": "TF74ogE2qmJF"
      },
      "source": [
        "# get the time difference between purchase time and sign-up time \n",
        "time_diff = data['purchase_time'] - data['signup_time']\n",
        "time_diff = time_diff.apply(lambda x: x.seconds)\n",
        "data['time_diff'] = time_diff"
      ],
      "execution_count": 8,
      "outputs": []
    },
    {
      "cell_type": "code",
      "metadata": {
        "id": "dKvY-VCktQcg"
      },
      "source": [
        "# Check user number for unique devices \n",
        "device_num = data[['user_id', 'device_id']].groupby('device_id').count().reset_index()\n",
        "device_num = device_num.rename(columns={'user_id': 'device_num'})\n",
        "data = data.merge(device_num, how='left', on='device_id')"
      ],
      "execution_count": 9,
      "outputs": []
    },
    {
      "cell_type": "code",
      "metadata": {
        "id": "kMP3Qy6qx-OV"
      },
      "source": [
        "# Check user number for unique ip address\n",
        "ip_num = data[['user_id', 'ip_address']].groupby('ip_address').count().reset_index()\n",
        "ip_num = ip_num.rename(columns={'user_id': 'ip_num'})\n",
        "data = data.merge(ip_num, how='left', on='ip_address')"
      ],
      "execution_count": 10,
      "outputs": []
    },
    {
      "cell_type": "code",
      "metadata": {
        "id": "PrnCN6-SyMI3"
      },
      "source": [
        "# Singup day and week \n",
        "data['signup_day'] = data['signup_time'].apply(lambda x: x.dayofweek)\n",
        "data['signup_week'] = data['signup_time'].apply(lambda x: x.week)\n",
        "\n",
        "# Purchase day and week \n",
        "data['purchase_day'] = data['purchase_time'].apply(lambda x: x.dayofweek)\n",
        "data['purchase_week'] = data['purchase_time'].apply(lambda x: x.week)"
      ],
      "execution_count": 11,
      "outputs": []
    },
    {
      "cell_type": "code",
      "metadata": {
        "colab": {
          "base_uri": "https://localhost:8080/",
          "height": 309
        },
        "id": "_bGL8NJuyt_v",
        "outputId": "875b8116-8dd2-4caa-9eab-bc7f778f4be5"
      },
      "source": [
        "data.head()"
      ],
      "execution_count": 12,
      "outputs": [
        {
          "output_type": "execute_result",
          "data": {
            "text/html": [
              "<div>\n",
              "<style scoped>\n",
              "    .dataframe tbody tr th:only-of-type {\n",
              "        vertical-align: middle;\n",
              "    }\n",
              "\n",
              "    .dataframe tbody tr th {\n",
              "        vertical-align: top;\n",
              "    }\n",
              "\n",
              "    .dataframe thead th {\n",
              "        text-align: right;\n",
              "    }\n",
              "</style>\n",
              "<table border=\"1\" class=\"dataframe\">\n",
              "  <thead>\n",
              "    <tr style=\"text-align: right;\">\n",
              "      <th></th>\n",
              "      <th>user_id</th>\n",
              "      <th>signup_time</th>\n",
              "      <th>purchase_time</th>\n",
              "      <th>purchase_value</th>\n",
              "      <th>device_id</th>\n",
              "      <th>source</th>\n",
              "      <th>browser</th>\n",
              "      <th>sex</th>\n",
              "      <th>age</th>\n",
              "      <th>ip_address</th>\n",
              "      <th>class</th>\n",
              "      <th>country</th>\n",
              "      <th>time_diff</th>\n",
              "      <th>device_num</th>\n",
              "      <th>ip_num</th>\n",
              "      <th>signup_day</th>\n",
              "      <th>signup_week</th>\n",
              "      <th>purchase_day</th>\n",
              "      <th>purchase_week</th>\n",
              "    </tr>\n",
              "  </thead>\n",
              "  <tbody>\n",
              "    <tr>\n",
              "      <th>0</th>\n",
              "      <td>22058</td>\n",
              "      <td>2015-02-24 22:55:49</td>\n",
              "      <td>2015-04-18 02:47:11</td>\n",
              "      <td>34</td>\n",
              "      <td>QVPSPJUOCKZAR</td>\n",
              "      <td>SEO</td>\n",
              "      <td>Chrome</td>\n",
              "      <td>M</td>\n",
              "      <td>39</td>\n",
              "      <td>7.327584e+08</td>\n",
              "      <td>0</td>\n",
              "      <td>Japan</td>\n",
              "      <td>13882</td>\n",
              "      <td>1</td>\n",
              "      <td>1</td>\n",
              "      <td>1</td>\n",
              "      <td>9</td>\n",
              "      <td>5</td>\n",
              "      <td>16</td>\n",
              "    </tr>\n",
              "    <tr>\n",
              "      <th>1</th>\n",
              "      <td>333320</td>\n",
              "      <td>2015-06-07 20:39:50</td>\n",
              "      <td>2015-06-08 01:38:54</td>\n",
              "      <td>16</td>\n",
              "      <td>EOGFQPIZPYXFZ</td>\n",
              "      <td>Ads</td>\n",
              "      <td>Chrome</td>\n",
              "      <td>F</td>\n",
              "      <td>53</td>\n",
              "      <td>3.503114e+08</td>\n",
              "      <td>0</td>\n",
              "      <td>United States</td>\n",
              "      <td>17944</td>\n",
              "      <td>1</td>\n",
              "      <td>1</td>\n",
              "      <td>6</td>\n",
              "      <td>23</td>\n",
              "      <td>0</td>\n",
              "      <td>24</td>\n",
              "    </tr>\n",
              "    <tr>\n",
              "      <th>2</th>\n",
              "      <td>1359</td>\n",
              "      <td>2015-01-01 18:52:44</td>\n",
              "      <td>2015-01-01 18:52:45</td>\n",
              "      <td>15</td>\n",
              "      <td>YSSKYOSJHPPLJ</td>\n",
              "      <td>SEO</td>\n",
              "      <td>Opera</td>\n",
              "      <td>M</td>\n",
              "      <td>53</td>\n",
              "      <td>2.621474e+09</td>\n",
              "      <td>1</td>\n",
              "      <td>United States</td>\n",
              "      <td>1</td>\n",
              "      <td>12</td>\n",
              "      <td>12</td>\n",
              "      <td>3</td>\n",
              "      <td>1</td>\n",
              "      <td>3</td>\n",
              "      <td>1</td>\n",
              "    </tr>\n",
              "    <tr>\n",
              "      <th>3</th>\n",
              "      <td>150084</td>\n",
              "      <td>2015-04-28 21:13:25</td>\n",
              "      <td>2015-05-04 13:54:50</td>\n",
              "      <td>44</td>\n",
              "      <td>ATGTXKYKUDUQN</td>\n",
              "      <td>SEO</td>\n",
              "      <td>Safari</td>\n",
              "      <td>M</td>\n",
              "      <td>41</td>\n",
              "      <td>3.840542e+09</td>\n",
              "      <td>0</td>\n",
              "      <td>NA</td>\n",
              "      <td>60085</td>\n",
              "      <td>1</td>\n",
              "      <td>1</td>\n",
              "      <td>1</td>\n",
              "      <td>18</td>\n",
              "      <td>0</td>\n",
              "      <td>19</td>\n",
              "    </tr>\n",
              "    <tr>\n",
              "      <th>4</th>\n",
              "      <td>221365</td>\n",
              "      <td>2015-07-21 07:09:52</td>\n",
              "      <td>2015-09-09 18:40:53</td>\n",
              "      <td>39</td>\n",
              "      <td>NAUITBZFJKHWW</td>\n",
              "      <td>Ads</td>\n",
              "      <td>Safari</td>\n",
              "      <td>M</td>\n",
              "      <td>45</td>\n",
              "      <td>4.155831e+08</td>\n",
              "      <td>0</td>\n",
              "      <td>United States</td>\n",
              "      <td>41461</td>\n",
              "      <td>1</td>\n",
              "      <td>1</td>\n",
              "      <td>1</td>\n",
              "      <td>30</td>\n",
              "      <td>2</td>\n",
              "      <td>37</td>\n",
              "    </tr>\n",
              "  </tbody>\n",
              "</table>\n",
              "</div>"
            ],
            "text/plain": [
              "   user_id         signup_time  ... purchase_day  purchase_week\n",
              "0    22058 2015-02-24 22:55:49  ...            5             16\n",
              "1   333320 2015-06-07 20:39:50  ...            0             24\n",
              "2     1359 2015-01-01 18:52:44  ...            3              1\n",
              "3   150084 2015-04-28 21:13:25  ...            0             19\n",
              "4   221365 2015-07-21 07:09:52  ...            2             37\n",
              "\n",
              "[5 rows x 19 columns]"
            ]
          },
          "metadata": {
            "tags": []
          },
          "execution_count": 12
        }
      ]
    },
    {
      "cell_type": "code",
      "metadata": {
        "colab": {
          "base_uri": "https://localhost:8080/",
          "height": 204
        },
        "id": "_m8HKpeBzvl-",
        "outputId": "7eabe2cc-1104-49b4-fde5-3ed86f26c3d4"
      },
      "source": [
        "# Define features and target to be used \n",
        "columns = ['signup_day', 'signup_week', 'purchase_day', 'purchase_week', 'purchase_value', 'source', \\\n",
        "           'browser', 'sex', 'age', 'country', 'time_diff', 'device_num', 'ip_num', 'class']\n",
        "data1 = data[columns]\n",
        "data1.head()"
      ],
      "execution_count": 13,
      "outputs": [
        {
          "output_type": "execute_result",
          "data": {
            "text/html": [
              "<div>\n",
              "<style scoped>\n",
              "    .dataframe tbody tr th:only-of-type {\n",
              "        vertical-align: middle;\n",
              "    }\n",
              "\n",
              "    .dataframe tbody tr th {\n",
              "        vertical-align: top;\n",
              "    }\n",
              "\n",
              "    .dataframe thead th {\n",
              "        text-align: right;\n",
              "    }\n",
              "</style>\n",
              "<table border=\"1\" class=\"dataframe\">\n",
              "  <thead>\n",
              "    <tr style=\"text-align: right;\">\n",
              "      <th></th>\n",
              "      <th>signup_day</th>\n",
              "      <th>signup_week</th>\n",
              "      <th>purchase_day</th>\n",
              "      <th>purchase_week</th>\n",
              "      <th>purchase_value</th>\n",
              "      <th>source</th>\n",
              "      <th>browser</th>\n",
              "      <th>sex</th>\n",
              "      <th>age</th>\n",
              "      <th>country</th>\n",
              "      <th>time_diff</th>\n",
              "      <th>device_num</th>\n",
              "      <th>ip_num</th>\n",
              "      <th>class</th>\n",
              "    </tr>\n",
              "  </thead>\n",
              "  <tbody>\n",
              "    <tr>\n",
              "      <th>0</th>\n",
              "      <td>1</td>\n",
              "      <td>9</td>\n",
              "      <td>5</td>\n",
              "      <td>16</td>\n",
              "      <td>34</td>\n",
              "      <td>SEO</td>\n",
              "      <td>Chrome</td>\n",
              "      <td>M</td>\n",
              "      <td>39</td>\n",
              "      <td>Japan</td>\n",
              "      <td>13882</td>\n",
              "      <td>1</td>\n",
              "      <td>1</td>\n",
              "      <td>0</td>\n",
              "    </tr>\n",
              "    <tr>\n",
              "      <th>1</th>\n",
              "      <td>6</td>\n",
              "      <td>23</td>\n",
              "      <td>0</td>\n",
              "      <td>24</td>\n",
              "      <td>16</td>\n",
              "      <td>Ads</td>\n",
              "      <td>Chrome</td>\n",
              "      <td>F</td>\n",
              "      <td>53</td>\n",
              "      <td>United States</td>\n",
              "      <td>17944</td>\n",
              "      <td>1</td>\n",
              "      <td>1</td>\n",
              "      <td>0</td>\n",
              "    </tr>\n",
              "    <tr>\n",
              "      <th>2</th>\n",
              "      <td>3</td>\n",
              "      <td>1</td>\n",
              "      <td>3</td>\n",
              "      <td>1</td>\n",
              "      <td>15</td>\n",
              "      <td>SEO</td>\n",
              "      <td>Opera</td>\n",
              "      <td>M</td>\n",
              "      <td>53</td>\n",
              "      <td>United States</td>\n",
              "      <td>1</td>\n",
              "      <td>12</td>\n",
              "      <td>12</td>\n",
              "      <td>1</td>\n",
              "    </tr>\n",
              "    <tr>\n",
              "      <th>3</th>\n",
              "      <td>1</td>\n",
              "      <td>18</td>\n",
              "      <td>0</td>\n",
              "      <td>19</td>\n",
              "      <td>44</td>\n",
              "      <td>SEO</td>\n",
              "      <td>Safari</td>\n",
              "      <td>M</td>\n",
              "      <td>41</td>\n",
              "      <td>NA</td>\n",
              "      <td>60085</td>\n",
              "      <td>1</td>\n",
              "      <td>1</td>\n",
              "      <td>0</td>\n",
              "    </tr>\n",
              "    <tr>\n",
              "      <th>4</th>\n",
              "      <td>1</td>\n",
              "      <td>30</td>\n",
              "      <td>2</td>\n",
              "      <td>37</td>\n",
              "      <td>39</td>\n",
              "      <td>Ads</td>\n",
              "      <td>Safari</td>\n",
              "      <td>M</td>\n",
              "      <td>45</td>\n",
              "      <td>United States</td>\n",
              "      <td>41461</td>\n",
              "      <td>1</td>\n",
              "      <td>1</td>\n",
              "      <td>0</td>\n",
              "    </tr>\n",
              "  </tbody>\n",
              "</table>\n",
              "</div>"
            ],
            "text/plain": [
              "   signup_day  signup_week  purchase_day  ...  device_num  ip_num class\n",
              "0           1            9             5  ...           1       1     0\n",
              "1           6           23             0  ...           1       1     0\n",
              "2           3            1             3  ...          12      12     1\n",
              "3           1           18             0  ...           1       1     0\n",
              "4           1           30             2  ...           1       1     0\n",
              "\n",
              "[5 rows x 14 columns]"
            ]
          },
          "metadata": {
            "tags": []
          },
          "execution_count": 13
        }
      ]
    },
    {
      "cell_type": "markdown",
      "metadata": {
        "id": "UbVU68dU0zK-"
      },
      "source": [
        "# Fradulent Activity Identification"
      ]
    },
    {
      "cell_type": "markdown",
      "metadata": {
        "id": "2FJJKMtz9poA"
      },
      "source": [
        "## Random Forest Model"
      ]
    },
    {
      "cell_type": "code",
      "metadata": {
        "id": "G5TJ1AIk01xm"
      },
      "source": [
        "# Initialization H2O cluster \n",
        "h2o.init()\n",
        "h2o.remove_all()"
      ],
      "execution_count": null,
      "outputs": []
    },
    {
      "cell_type": "code",
      "metadata": {
        "colab": {
          "base_uri": "https://localhost:8080/",
          "height": 499
        },
        "id": "5XTtP1MF070h",
        "outputId": "97098e12-8f40-41a0-f533-210fea42e4f8"
      },
      "source": [
        "# Transform to H2O frame, and make sure the target variable is categorical \n",
        "h2o_df = H2OFrame(data1)\n",
        "\n",
        "for name in ['signup_day', 'purchase_day', 'source', 'browser', 'sex', 'country', 'class']:\n",
        "  h2o_df[name] = h2o_df[name].asfactor()\n",
        "\n",
        "h2o_df.summary()"
      ],
      "execution_count": 15,
      "outputs": [
        {
          "output_type": "stream",
          "text": [
            "Parse progress: |█████████████████████████████████████████████████████████| 100%\n"
          ],
          "name": "stdout"
        },
        {
          "output_type": "display_data",
          "data": {
            "text/html": [
              "<table>\n",
              "<thead>\n",
              "<tr><th>       </th><th>signup_day  </th><th>signup_week       </th><th>purchase_day  </th><th>purchase_week     </th><th>purchase_value   </th><th>source  </th><th>browser  </th><th>sex  </th><th>age              </th><th>country      </th><th>time_diff         </th><th>device_num        </th><th>ip_num            </th><th>class  </th></tr>\n",
              "</thead>\n",
              "<tbody>\n",
              "<tr><td>type   </td><td>enum        </td><td>int               </td><td>enum          </td><td>int               </td><td>int              </td><td>enum    </td><td>enum     </td><td>enum </td><td>int              </td><td>enum         </td><td>int               </td><td>int               </td><td>int               </td><td>enum   </td></tr>\n",
              "<tr><td>mins   </td><td>            </td><td>1.0               </td><td>              </td><td>1.0               </td><td>9.0              </td><td>        </td><td>         </td><td>     </td><td>18.0             </td><td>             </td><td>1.0               </td><td>1.0               </td><td>1.0               </td><td>       </td></tr>\n",
              "<tr><td>mean   </td><td>            </td><td>16.501740430938508</td><td>              </td><td>24.658571126052173</td><td>36.93537243898567</td><td>        </td><td>         </td><td>     </td><td>33.14070358409671</td><td>             </td><td>40942.584427444956</td><td>1.6843665625496433</td><td>1.6027185134205137</td><td>       </td></tr>\n",
              "<tr><td>maxs   </td><td>            </td><td>34.0              </td><td>              </td><td>51.0              </td><td>154.0            </td><td>        </td><td>         </td><td>     </td><td>76.0             </td><td>             </td><td>86399.0           </td><td>20.0              </td><td>20.0              </td><td>       </td></tr>\n",
              "<tr><td>sigma  </td><td>            </td><td>9.814287461798854 </td><td>              </td><td>11.651556782719474</td><td>18.32276214866212</td><td>        </td><td>         </td><td>     </td><td>8.617733490961495</td><td>             </td><td>26049.661902118358</td><td>2.6169536028041693</td><td>2.596239527375835 </td><td>       </td></tr>\n",
              "<tr><td>zeros  </td><td>            </td><td>0                 </td><td>              </td><td>0                 </td><td>0                </td><td>        </td><td>         </td><td>     </td><td>0                </td><td>             </td><td>0                 </td><td>0                 </td><td>0                 </td><td>       </td></tr>\n",
              "<tr><td>missing</td><td>0           </td><td>0                 </td><td>0             </td><td>0                 </td><td>0                </td><td>0       </td><td>0        </td><td>0    </td><td>0                </td><td>0            </td><td>0                 </td><td>0                 </td><td>0                 </td><td>0      </td></tr>\n",
              "<tr><td>0      </td><td>1           </td><td>9.0               </td><td>5             </td><td>16.0              </td><td>34.0             </td><td>SEO     </td><td>Chrome   </td><td>M    </td><td>39.0             </td><td>Japan        </td><td>13882.0           </td><td>1.0               </td><td>1.0               </td><td>0      </td></tr>\n",
              "<tr><td>1      </td><td>6           </td><td>23.0              </td><td>0             </td><td>24.0              </td><td>16.0             </td><td>Ads     </td><td>Chrome   </td><td>F    </td><td>53.0             </td><td>United States</td><td>17944.0           </td><td>1.0               </td><td>1.0               </td><td>0      </td></tr>\n",
              "<tr><td>2      </td><td>3           </td><td>1.0               </td><td>3             </td><td>1.0               </td><td>15.0             </td><td>SEO     </td><td>Opera    </td><td>M    </td><td>53.0             </td><td>United States</td><td>1.0               </td><td>12.0              </td><td>12.0              </td><td>1      </td></tr>\n",
              "<tr><td>3      </td><td>1           </td><td>18.0              </td><td>0             </td><td>19.0              </td><td>44.0             </td><td>SEO     </td><td>Safari   </td><td>M    </td><td>41.0             </td><td>NA           </td><td>60085.0           </td><td>1.0               </td><td>1.0               </td><td>0      </td></tr>\n",
              "<tr><td>4      </td><td>1           </td><td>30.0              </td><td>2             </td><td>37.0              </td><td>39.0             </td><td>Ads     </td><td>Safari   </td><td>M    </td><td>45.0             </td><td>United States</td><td>41461.0           </td><td>1.0               </td><td>1.0               </td><td>0      </td></tr>\n",
              "<tr><td>5      </td><td>3           </td><td>21.0              </td><td>3             </td><td>28.0              </td><td>42.0             </td><td>Ads     </td><td>Chrome   </td><td>M    </td><td>18.0             </td><td>Canada       </td><td>7331.0            </td><td>1.0               </td><td>1.0               </td><td>0      </td></tr>\n",
              "<tr><td>6      </td><td>5           </td><td>31.0              </td><td>3             </td><td>35.0              </td><td>11.0             </td><td>Ads     </td><td>Chrome   </td><td>F    </td><td>19.0             </td><td>NA           </td><td>17825.0           </td><td>1.0               </td><td>1.0               </td><td>0      </td></tr>\n",
              "<tr><td>7      </td><td>0           </td><td>15.0              </td><td>0             </td><td>22.0              </td><td>27.0             </td><td>Ads     </td><td>Opera    </td><td>M    </td><td>34.0             </td><td>United States</td><td>35129.0           </td><td>1.0               </td><td>1.0               </td><td>0      </td></tr>\n",
              "<tr><td>8      </td><td>1           </td><td>17.0              </td><td>1             </td><td>23.0              </td><td>30.0             </td><td>SEO     </td><td>IE       </td><td>F    </td><td>43.0             </td><td>China        </td><td>51800.0           </td><td>1.0               </td><td>1.0               </td><td>0      </td></tr>\n",
              "<tr><td>9      </td><td>6           </td><td>4.0               </td><td>0             </td><td>13.0              </td><td>62.0             </td><td>Ads     </td><td>IE       </td><td>M    </td><td>31.0             </td><td>United States</td><td>18953.0           </td><td>1.0               </td><td>1.0               </td><td>0      </td></tr>\n",
              "</tbody>\n",
              "</table>"
            ]
          },
          "metadata": {
            "tags": []
          }
        }
      ]
    },
    {
      "cell_type": "markdown",
      "metadata": {
        "id": "lAu0pv5p9upM"
      },
      "source": [
        "## Train Model"
      ]
    },
    {
      "cell_type": "code",
      "metadata": {
        "id": "_ON4hD0_5Yrw"
      },
      "source": [
        "# Split into 70% training and 30# test dataset:\n",
        "strat_split = h2o_df['class'].stratified_split(test_frac=0.3, seed=20)\n",
        "\n",
        "train = h2o_df[strat_split == 'train']\n",
        "test = h2o_df[strat_split == 'test']\n",
        "\n",
        "# Define features and target \n",
        "feature = ['signup_day', 'signup_week', 'purchase_day', 'purchase_week', 'purchase_value', 'source', \\\n",
        "           'browser', 'sex', 'age', 'country', 'time_diff', 'device_num', 'ip_num']\n",
        "target = 'class'"
      ],
      "execution_count": 16,
      "outputs": []
    },
    {
      "cell_type": "code",
      "metadata": {
        "colab": {
          "base_uri": "https://localhost:8080/"
        },
        "id": "kRjdMZ2q6Dam",
        "outputId": "f428f1e6-473a-4d9d-e3b3-5cf5dfa93601"
      },
      "source": [
        "# Build Random Forest Model \n",
        "model = H2ORandomForestEstimator(balance_classes=True, ntrees=100, mtries=-1, stopping_rounds=5, stopping_metric='auc', score_each_iteration=True, seed=20)\n",
        "model.train(x=feature, y=target, training_frame=train, validation_frame=test)"
      ],
      "execution_count": 18,
      "outputs": [
        {
          "output_type": "stream",
          "text": [
            "drf Model Build progress: |███████████████████████████████████████████████| 100%\n"
          ],
          "name": "stdout"
        }
      ]
    },
    {
      "cell_type": "code",
      "metadata": {
        "colab": {
          "base_uri": "https://localhost:8080/",
          "height": 1000
        },
        "id": "lO36E6s16a90",
        "outputId": "6f2133c0-548b-4364-df0f-908211b90791"
      },
      "source": [
        "model.score_history()"
      ],
      "execution_count": 19,
      "outputs": [
        {
          "output_type": "execute_result",
          "data": {
            "text/html": [
              "<div>\n",
              "<style scoped>\n",
              "    .dataframe tbody tr th:only-of-type {\n",
              "        vertical-align: middle;\n",
              "    }\n",
              "\n",
              "    .dataframe tbody tr th {\n",
              "        vertical-align: top;\n",
              "    }\n",
              "\n",
              "    .dataframe thead th {\n",
              "        text-align: right;\n",
              "    }\n",
              "</style>\n",
              "<table border=\"1\" class=\"dataframe\">\n",
              "  <thead>\n",
              "    <tr style=\"text-align: right;\">\n",
              "      <th></th>\n",
              "      <th></th>\n",
              "      <th>timestamp</th>\n",
              "      <th>duration</th>\n",
              "      <th>number_of_trees</th>\n",
              "      <th>training_rmse</th>\n",
              "      <th>training_logloss</th>\n",
              "      <th>training_auc</th>\n",
              "      <th>training_pr_auc</th>\n",
              "      <th>training_lift</th>\n",
              "      <th>training_classification_error</th>\n",
              "      <th>validation_rmse</th>\n",
              "      <th>validation_logloss</th>\n",
              "      <th>validation_auc</th>\n",
              "      <th>validation_pr_auc</th>\n",
              "      <th>validation_lift</th>\n",
              "      <th>validation_classification_error</th>\n",
              "    </tr>\n",
              "  </thead>\n",
              "  <tbody>\n",
              "    <tr>\n",
              "      <th>0</th>\n",
              "      <td></td>\n",
              "      <td>2021-01-08 21:31:51</td>\n",
              "      <td>0.093 sec</td>\n",
              "      <td>0.0</td>\n",
              "      <td>NaN</td>\n",
              "      <td>NaN</td>\n",
              "      <td>NaN</td>\n",
              "      <td>NaN</td>\n",
              "      <td>NaN</td>\n",
              "      <td>NaN</td>\n",
              "      <td>NaN</td>\n",
              "      <td>NaN</td>\n",
              "      <td>NaN</td>\n",
              "      <td>NaN</td>\n",
              "      <td>NaN</td>\n",
              "      <td>NaN</td>\n",
              "    </tr>\n",
              "    <tr>\n",
              "      <th>1</th>\n",
              "      <td></td>\n",
              "      <td>2021-01-08 21:31:54</td>\n",
              "      <td>2.985 sec</td>\n",
              "      <td>1.0</td>\n",
              "      <td>0.312660</td>\n",
              "      <td>0.768713</td>\n",
              "      <td>0.964184</td>\n",
              "      <td>0.948132</td>\n",
              "      <td>1.924870</td>\n",
              "      <td>0.093092</td>\n",
              "      <td>0.261641</td>\n",
              "      <td>1.882658</td>\n",
              "      <td>0.783507</td>\n",
              "      <td>0.476623</td>\n",
              "      <td>7.166937</td>\n",
              "      <td>0.066398</td>\n",
              "    </tr>\n",
              "    <tr>\n",
              "      <th>2</th>\n",
              "      <td></td>\n",
              "      <td>2021-01-08 21:31:56</td>\n",
              "      <td>4.901 sec</td>\n",
              "      <td>2.0</td>\n",
              "      <td>0.319593</td>\n",
              "      <td>0.678704</td>\n",
              "      <td>0.965044</td>\n",
              "      <td>0.953117</td>\n",
              "      <td>1.939674</td>\n",
              "      <td>0.089166</td>\n",
              "      <td>0.213001</td>\n",
              "      <td>0.743440</td>\n",
              "      <td>0.804431</td>\n",
              "      <td>0.642376</td>\n",
              "      <td>10.115690</td>\n",
              "      <td>0.046081</td>\n",
              "    </tr>\n",
              "    <tr>\n",
              "      <th>3</th>\n",
              "      <td></td>\n",
              "      <td>2021-01-08 21:31:58</td>\n",
              "      <td>6.895 sec</td>\n",
              "      <td>3.0</td>\n",
              "      <td>0.315939</td>\n",
              "      <td>0.594035</td>\n",
              "      <td>0.969980</td>\n",
              "      <td>0.960148</td>\n",
              "      <td>1.950740</td>\n",
              "      <td>0.080150</td>\n",
              "      <td>0.207072</td>\n",
              "      <td>0.538686</td>\n",
              "      <td>0.814863</td>\n",
              "      <td>0.669951</td>\n",
              "      <td>10.502406</td>\n",
              "      <td>0.044912</td>\n",
              "    </tr>\n",
              "    <tr>\n",
              "      <th>4</th>\n",
              "      <td></td>\n",
              "      <td>2021-01-08 21:32:00</td>\n",
              "      <td>8.502 sec</td>\n",
              "      <td>4.0</td>\n",
              "      <td>0.316785</td>\n",
              "      <td>0.521665</td>\n",
              "      <td>0.973356</td>\n",
              "      <td>0.965910</td>\n",
              "      <td>1.961844</td>\n",
              "      <td>0.075375</td>\n",
              "      <td>0.204913</td>\n",
              "      <td>0.417641</td>\n",
              "      <td>0.822599</td>\n",
              "      <td>0.682521</td>\n",
              "      <td>10.646031</td>\n",
              "      <td>0.044317</td>\n",
              "    </tr>\n",
              "    <tr>\n",
              "      <th>5</th>\n",
              "      <td></td>\n",
              "      <td>2021-01-08 21:32:01</td>\n",
              "      <td>10.018 sec</td>\n",
              "      <td>5.0</td>\n",
              "      <td>0.316871</td>\n",
              "      <td>0.469928</td>\n",
              "      <td>0.976771</td>\n",
              "      <td>0.970938</td>\n",
              "      <td>1.969894</td>\n",
              "      <td>0.069795</td>\n",
              "      <td>0.204278</td>\n",
              "      <td>0.359374</td>\n",
              "      <td>0.825956</td>\n",
              "      <td>0.687179</td>\n",
              "      <td>10.660158</td>\n",
              "      <td>0.044317</td>\n",
              "    </tr>\n",
              "    <tr>\n",
              "      <th>6</th>\n",
              "      <td></td>\n",
              "      <td>2021-01-08 21:32:03</td>\n",
              "      <td>11.612 sec</td>\n",
              "      <td>6.0</td>\n",
              "      <td>0.315740</td>\n",
              "      <td>0.426058</td>\n",
              "      <td>0.979928</td>\n",
              "      <td>0.975428</td>\n",
              "      <td>1.976657</td>\n",
              "      <td>0.064944</td>\n",
              "      <td>0.203746</td>\n",
              "      <td>0.323820</td>\n",
              "      <td>0.828053</td>\n",
              "      <td>0.690648</td>\n",
              "      <td>10.679152</td>\n",
              "      <td>0.044184</td>\n",
              "    </tr>\n",
              "    <tr>\n",
              "      <th>7</th>\n",
              "      <td></td>\n",
              "      <td>2021-01-08 21:32:04</td>\n",
              "      <td>13.083 sec</td>\n",
              "      <td>7.0</td>\n",
              "      <td>0.312704</td>\n",
              "      <td>0.386928</td>\n",
              "      <td>0.983516</td>\n",
              "      <td>0.979933</td>\n",
              "      <td>1.982001</td>\n",
              "      <td>0.058366</td>\n",
              "      <td>0.203641</td>\n",
              "      <td>0.302937</td>\n",
              "      <td>0.830304</td>\n",
              "      <td>0.693001</td>\n",
              "      <td>10.679152</td>\n",
              "      <td>0.044052</td>\n",
              "    </tr>\n",
              "    <tr>\n",
              "      <th>8</th>\n",
              "      <td></td>\n",
              "      <td>2021-01-08 21:32:06</td>\n",
              "      <td>14.535 sec</td>\n",
              "      <td>8.0</td>\n",
              "      <td>0.316243</td>\n",
              "      <td>0.369066</td>\n",
              "      <td>0.985031</td>\n",
              "      <td>0.982368</td>\n",
              "      <td>1.986268</td>\n",
              "      <td>0.057692</td>\n",
              "      <td>0.203450</td>\n",
              "      <td>0.273569</td>\n",
              "      <td>0.832120</td>\n",
              "      <td>0.695123</td>\n",
              "      <td>10.679152</td>\n",
              "      <td>0.044780</td>\n",
              "    </tr>\n",
              "    <tr>\n",
              "      <th>9</th>\n",
              "      <td></td>\n",
              "      <td>2021-01-08 21:32:07</td>\n",
              "      <td>15.977 sec</td>\n",
              "      <td>9.0</td>\n",
              "      <td>0.313372</td>\n",
              "      <td>0.340736</td>\n",
              "      <td>0.987874</td>\n",
              "      <td>0.985839</td>\n",
              "      <td>1.990083</td>\n",
              "      <td>0.051697</td>\n",
              "      <td>0.203438</td>\n",
              "      <td>0.262452</td>\n",
              "      <td>0.833758</td>\n",
              "      <td>0.696595</td>\n",
              "      <td>10.679152</td>\n",
              "      <td>0.044868</td>\n",
              "    </tr>\n",
              "    <tr>\n",
              "      <th>10</th>\n",
              "      <td></td>\n",
              "      <td>2021-01-08 21:32:09</td>\n",
              "      <td>17.403 sec</td>\n",
              "      <td>10.0</td>\n",
              "      <td>0.316106</td>\n",
              "      <td>0.332381</td>\n",
              "      <td>0.988877</td>\n",
              "      <td>0.987364</td>\n",
              "      <td>1.992601</td>\n",
              "      <td>0.051076</td>\n",
              "      <td>0.203274</td>\n",
              "      <td>0.247823</td>\n",
              "      <td>0.835962</td>\n",
              "      <td>0.698573</td>\n",
              "      <td>10.679152</td>\n",
              "      <td>0.044030</td>\n",
              "    </tr>\n",
              "    <tr>\n",
              "      <th>11</th>\n",
              "      <td></td>\n",
              "      <td>2021-01-08 21:32:10</td>\n",
              "      <td>18.871 sec</td>\n",
              "      <td>11.0</td>\n",
              "      <td>0.316269</td>\n",
              "      <td>0.320892</td>\n",
              "      <td>0.990188</td>\n",
              "      <td>0.989123</td>\n",
              "      <td>1.994770</td>\n",
              "      <td>0.048344</td>\n",
              "      <td>0.203204</td>\n",
              "      <td>0.243103</td>\n",
              "      <td>0.836104</td>\n",
              "      <td>0.699592</td>\n",
              "      <td>10.679152</td>\n",
              "      <td>0.044405</td>\n",
              "    </tr>\n",
              "    <tr>\n",
              "      <th>12</th>\n",
              "      <td></td>\n",
              "      <td>2021-01-08 21:32:12</td>\n",
              "      <td>20.326 sec</td>\n",
              "      <td>12.0</td>\n",
              "      <td>0.314273</td>\n",
              "      <td>0.306740</td>\n",
              "      <td>0.991746</td>\n",
              "      <td>0.990968</td>\n",
              "      <td>1.996553</td>\n",
              "      <td>0.044531</td>\n",
              "      <td>0.203229</td>\n",
              "      <td>0.236835</td>\n",
              "      <td>0.837270</td>\n",
              "      <td>0.701493</td>\n",
              "      <td>10.679152</td>\n",
              "      <td>0.044030</td>\n",
              "    </tr>\n",
              "    <tr>\n",
              "      <th>13</th>\n",
              "      <td></td>\n",
              "      <td>2021-01-08 21:32:13</td>\n",
              "      <td>21.748 sec</td>\n",
              "      <td>13.0</td>\n",
              "      <td>0.313756</td>\n",
              "      <td>0.298202</td>\n",
              "      <td>0.992923</td>\n",
              "      <td>0.992298</td>\n",
              "      <td>1.997641</td>\n",
              "      <td>0.040787</td>\n",
              "      <td>0.203129</td>\n",
              "      <td>0.232188</td>\n",
              "      <td>0.838035</td>\n",
              "      <td>0.703028</td>\n",
              "      <td>10.679152</td>\n",
              "      <td>0.044030</td>\n",
              "    </tr>\n",
              "    <tr>\n",
              "      <th>14</th>\n",
              "      <td></td>\n",
              "      <td>2021-01-08 21:32:15</td>\n",
              "      <td>23.272 sec</td>\n",
              "      <td>14.0</td>\n",
              "      <td>0.313179</td>\n",
              "      <td>0.292833</td>\n",
              "      <td>0.993716</td>\n",
              "      <td>0.993254</td>\n",
              "      <td>1.998479</td>\n",
              "      <td>0.038376</td>\n",
              "      <td>0.203250</td>\n",
              "      <td>0.227510</td>\n",
              "      <td>0.837381</td>\n",
              "      <td>0.702655</td>\n",
              "      <td>10.679152</td>\n",
              "      <td>0.044008</td>\n",
              "    </tr>\n",
              "    <tr>\n",
              "      <th>15</th>\n",
              "      <td></td>\n",
              "      <td>2021-01-08 21:32:16</td>\n",
              "      <td>24.932 sec</td>\n",
              "      <td>15.0</td>\n",
              "      <td>0.315263</td>\n",
              "      <td>0.292470</td>\n",
              "      <td>0.994148</td>\n",
              "      <td>0.993835</td>\n",
              "      <td>1.999210</td>\n",
              "      <td>0.037230</td>\n",
              "      <td>0.203150</td>\n",
              "      <td>0.224444</td>\n",
              "      <td>0.838018</td>\n",
              "      <td>0.703628</td>\n",
              "      <td>10.679152</td>\n",
              "      <td>0.044008</td>\n",
              "    </tr>\n",
              "    <tr>\n",
              "      <th>16</th>\n",
              "      <td></td>\n",
              "      <td>2021-01-08 21:32:18</td>\n",
              "      <td>26.351 sec</td>\n",
              "      <td>16.0</td>\n",
              "      <td>0.316303</td>\n",
              "      <td>0.292242</td>\n",
              "      <td>0.994570</td>\n",
              "      <td>0.994301</td>\n",
              "      <td>1.999526</td>\n",
              "      <td>0.035846</td>\n",
              "      <td>0.203176</td>\n",
              "      <td>0.220869</td>\n",
              "      <td>0.838468</td>\n",
              "      <td>0.704209</td>\n",
              "      <td>10.679152</td>\n",
              "      <td>0.044317</td>\n",
              "    </tr>\n",
              "    <tr>\n",
              "      <th>17</th>\n",
              "      <td></td>\n",
              "      <td>2021-01-08 21:32:19</td>\n",
              "      <td>27.946 sec</td>\n",
              "      <td>17.0</td>\n",
              "      <td>0.319163</td>\n",
              "      <td>0.296543</td>\n",
              "      <td>0.994616</td>\n",
              "      <td>0.994405</td>\n",
              "      <td>1.999808</td>\n",
              "      <td>0.035894</td>\n",
              "      <td>0.203126</td>\n",
              "      <td>0.215673</td>\n",
              "      <td>0.838743</td>\n",
              "      <td>0.704518</td>\n",
              "      <td>10.679152</td>\n",
              "      <td>0.044515</td>\n",
              "    </tr>\n",
              "    <tr>\n",
              "      <th>18</th>\n",
              "      <td></td>\n",
              "      <td>2021-01-08 21:32:21</td>\n",
              "      <td>29.455 sec</td>\n",
              "      <td>18.0</td>\n",
              "      <td>0.318321</td>\n",
              "      <td>0.293198</td>\n",
              "      <td>0.995139</td>\n",
              "      <td>0.994964</td>\n",
              "      <td>2.000061</td>\n",
              "      <td>0.034130</td>\n",
              "      <td>0.203146</td>\n",
              "      <td>0.213836</td>\n",
              "      <td>0.838680</td>\n",
              "      <td>0.705104</td>\n",
              "      <td>10.679152</td>\n",
              "      <td>0.044339</td>\n",
              "    </tr>\n",
              "    <tr>\n",
              "      <th>19</th>\n",
              "      <td></td>\n",
              "      <td>2021-01-08 21:32:22</td>\n",
              "      <td>31.062 sec</td>\n",
              "      <td>19.0</td>\n",
              "      <td>0.318032</td>\n",
              "      <td>0.292161</td>\n",
              "      <td>0.995407</td>\n",
              "      <td>0.995276</td>\n",
              "      <td>2.000242</td>\n",
              "      <td>0.032995</td>\n",
              "      <td>0.203135</td>\n",
              "      <td>0.211346</td>\n",
              "      <td>0.838566</td>\n",
              "      <td>0.705416</td>\n",
              "      <td>10.679152</td>\n",
              "      <td>0.044272</td>\n",
              "    </tr>\n",
              "    <tr>\n",
              "      <th>20</th>\n",
              "      <td></td>\n",
              "      <td>2021-01-08 21:32:24</td>\n",
              "      <td>32.746 sec</td>\n",
              "      <td>20.0</td>\n",
              "      <td>0.318794</td>\n",
              "      <td>0.293190</td>\n",
              "      <td>0.995562</td>\n",
              "      <td>0.995456</td>\n",
              "      <td>2.000352</td>\n",
              "      <td>0.032602</td>\n",
              "      <td>0.203133</td>\n",
              "      <td>0.209741</td>\n",
              "      <td>0.839086</td>\n",
              "      <td>0.705581</td>\n",
              "      <td>10.679152</td>\n",
              "      <td>0.044714</td>\n",
              "    </tr>\n",
              "    <tr>\n",
              "      <th>21</th>\n",
              "      <td></td>\n",
              "      <td>2021-01-08 21:32:26</td>\n",
              "      <td>34.385 sec</td>\n",
              "      <td>21.0</td>\n",
              "      <td>0.318582</td>\n",
              "      <td>0.291787</td>\n",
              "      <td>0.995854</td>\n",
              "      <td>0.995753</td>\n",
              "      <td>2.000425</td>\n",
              "      <td>0.031411</td>\n",
              "      <td>0.203166</td>\n",
              "      <td>0.208622</td>\n",
              "      <td>0.838681</td>\n",
              "      <td>0.705279</td>\n",
              "      <td>10.679152</td>\n",
              "      <td>0.044978</td>\n",
              "    </tr>\n",
              "    <tr>\n",
              "      <th>22</th>\n",
              "      <td></td>\n",
              "      <td>2021-01-08 21:32:27</td>\n",
              "      <td>36.032 sec</td>\n",
              "      <td>22.0</td>\n",
              "      <td>0.319533</td>\n",
              "      <td>0.293503</td>\n",
              "      <td>0.995959</td>\n",
              "      <td>0.995860</td>\n",
              "      <td>2.000462</td>\n",
              "      <td>0.031150</td>\n",
              "      <td>0.203122</td>\n",
              "      <td>0.204998</td>\n",
              "      <td>0.839224</td>\n",
              "      <td>0.705982</td>\n",
              "      <td>10.679152</td>\n",
              "      <td>0.044758</td>\n",
              "    </tr>\n",
              "  </tbody>\n",
              "</table>\n",
              "</div>"
            ],
            "text/plain": [
              "                timestamp  ... validation_lift  validation_classification_error\n",
              "0     2021-01-08 21:31:51  ...             NaN                              NaN\n",
              "1     2021-01-08 21:31:54  ...        7.166937                         0.066398\n",
              "2     2021-01-08 21:31:56  ...       10.115690                         0.046081\n",
              "3     2021-01-08 21:31:58  ...       10.502406                         0.044912\n",
              "4     2021-01-08 21:32:00  ...       10.646031                         0.044317\n",
              "5     2021-01-08 21:32:01  ...       10.660158                         0.044317\n",
              "6     2021-01-08 21:32:03  ...       10.679152                         0.044184\n",
              "7     2021-01-08 21:32:04  ...       10.679152                         0.044052\n",
              "8     2021-01-08 21:32:06  ...       10.679152                         0.044780\n",
              "9     2021-01-08 21:32:07  ...       10.679152                         0.044868\n",
              "10    2021-01-08 21:32:09  ...       10.679152                         0.044030\n",
              "11    2021-01-08 21:32:10  ...       10.679152                         0.044405\n",
              "12    2021-01-08 21:32:12  ...       10.679152                         0.044030\n",
              "13    2021-01-08 21:32:13  ...       10.679152                         0.044030\n",
              "14    2021-01-08 21:32:15  ...       10.679152                         0.044008\n",
              "15    2021-01-08 21:32:16  ...       10.679152                         0.044008\n",
              "16    2021-01-08 21:32:18  ...       10.679152                         0.044317\n",
              "17    2021-01-08 21:32:19  ...       10.679152                         0.044515\n",
              "18    2021-01-08 21:32:21  ...       10.679152                         0.044339\n",
              "19    2021-01-08 21:32:22  ...       10.679152                         0.044272\n",
              "20    2021-01-08 21:32:24  ...       10.679152                         0.044714\n",
              "21    2021-01-08 21:32:26  ...       10.679152                         0.044978\n",
              "22    2021-01-08 21:32:27  ...       10.679152                         0.044758\n",
              "\n",
              "[23 rows x 16 columns]"
            ]
          },
          "metadata": {
            "tags": []
          },
          "execution_count": 19
        }
      ]
    },
    {
      "cell_type": "markdown",
      "metadata": {
        "id": "tBqkHNkv9yBZ"
      },
      "source": [
        "## Feature Importance "
      ]
    },
    {
      "cell_type": "code",
      "metadata": {
        "colab": {
          "base_uri": "https://localhost:8080/",
          "height": 498
        },
        "id": "NYhGtKp40ywE",
        "outputId": "a8d2b05c-3923-4575-d080-bc7d93aab680"
      },
      "source": [
        "# Feature importance \n",
        "importance = model.varimp(use_pandas=True)\n",
        "\n",
        "fig, ax = plt.subplots(figsize=(10, 8))\n",
        "sns.barplot(x='scaled_importance', y='variable', data=importance)\n",
        "plt.show()"
      ],
      "execution_count": 20,
      "outputs": [
        {
          "output_type": "display_data",
          "data": {
            "image/png": "[encoded data removed]",
            "text/plain": [
              "<Figure size 720x576 with 1 Axes>"
            ]
          },
          "metadata": {
            "tags": [],
            "needs_background": "light"
          }
        }
      ]
    },
    {
      "cell_type": "markdown",
      "metadata": {
        "id": "9YCQDeze92EJ"
      },
      "source": [
        "## Predictions (Confusion Matrix)"
      ]
    },
    {
      "cell_type": "code",
      "metadata": {
        "colab": {
          "base_uri": "https://localhost:8080/"
        },
        "id": "gXgL6ZWl6_7j",
        "outputId": "d2f326d6-1d04-44f8-a313-f7aefd6df81e"
      },
      "source": [
        "# Make predictions \n",
        "train_true = train.as_data_frame()['class'].values\n",
        "test_true = test.as_data_frame()['class'].values\n",
        "train_pred = model.predict(train).as_data_frame()['p1'].values\n",
        "test_pred = model.predict(test).as_data_frame()['p1'].values\n",
        "\n",
        "train_fpr, train_tpr, _ = roc_curve(train_true, train_pred)\n",
        "test_fpr, test_tpr, _ = roc_curve(test_true, test_pred)\n",
        "train_auc = np.round(auc(train_fpr, train_tpr), 3)\n",
        "test_auc = np.round(auc(test_fpr, test_tpr), 3)"
      ],
      "execution_count": 21,
      "outputs": [
        {
          "output_type": "stream",
          "text": [
            "drf prediction progress: |████████████████████████████████████████████████| 100%\n",
            "drf prediction progress: |████████████████████████████████████████████████| 100%\n"
          ],
          "name": "stdout"
        }
      ]
    },
    {
      "cell_type": "code",
      "metadata": {
        "colab": {
          "base_uri": "https://localhost:8080/"
        },
        "id": "vTfn8r7n7yRV",
        "outputId": "02d24da2-bf7f-40c0-e14a-ec353f27f38d"
      },
      "source": [
        "# classification report \n",
        "print(classification_report(y_true=test_true, y_pred=(test_pred>0.5).astype(int)))"
      ],
      "execution_count": 22,
      "outputs": [
        {
          "output_type": "stream",
          "text": [
            "              precision    recall  f1-score   support\n",
            "\n",
            "           0       0.95      1.00      0.98     41088\n",
            "           1       1.00      0.53      0.69      4245\n",
            "\n",
            "    accuracy                           0.96     45333\n",
            "   macro avg       0.98      0.76      0.83     45333\n",
            "weighted avg       0.96      0.96      0.95     45333\n",
            "\n"
          ],
          "name": "stdout"
        }
      ]
    },
    {
      "cell_type": "code",
      "metadata": {
        "colab": {
          "base_uri": "https://localhost:8080/",
          "height": 391
        },
        "id": "t279dcCm7-Jg",
        "outputId": "eef8ef5f-d25c-4ce6-f37e-0f58c0bdb749"
      },
      "source": [
        "train_fpr = np.insert(train_fpr, 0, 0)\n",
        "train_tpr = np.insert(train_tpr, 0, 0)\n",
        "test_fpr = np.insert(test_fpr, 0, 0)\n",
        "test_tpr = np.insert(test_tpr, 0, 0)\n",
        "\n",
        "fig, ax = plt.subplots(figsize=(8, 6))\n",
        "ax.plot(train_fpr, train_tpr, label='Train AUC: ' + str(train_auc))\n",
        "ax.plot(test_fpr, test_tpr, label='Test AUC: '+str(test_auc))\n",
        "ax.plot(train_fpr, train_fpr, 'k--', label='Chance Curve')\n",
        "ax.set_xlabel('False Positive Rate', fontsize=12)\n",
        "ax.set_ylabel('True Positive Rate', fontsize=12)\n",
        "ax.grid(True)\n",
        "ax.legend(fontsize=12)\n",
        "plt.show();"
      ],
      "execution_count": 23,
      "outputs": [
        {
          "output_type": "display_data",
          "data": {
            "image/png": "[encoded data removed]",
            "text/plain": [
              "<Figure size 576x432 with 1 Axes>"
            ]
          },
          "metadata": {
            "tags": [],
            "needs_background": "light"
          }
        }
      ]
    },
    {
      "cell_type": "markdown",
      "metadata": {
        "id": "Dnts-CX78zny"
      },
      "source": [
        "Based on the ROC, if we care about minimizing false positive rate, we would choose a cut-off that would give us true positive rate of ~0.5 and false positive rate almost zero. (This is the random forest ouput.)\n",
        "\n",
        "However, if we care about maximizing true positive, we will have to decrease the cut-off. This way we will classify more events as '1': some will be true ones (so true positive goes up) and many, unfortunately, will be false ones (so false positive will also go up). "
      ]
    },
    {
      "cell_type": "code",
      "metadata": {
        "colab": {
          "base_uri": "https://localhost:8080/",
          "height": 1000
        },
        "id": "cHaVhgEO9fVt",
        "outputId": "bbc32060-897c-4052-ebd2-04f546f48a4d"
      },
      "source": [
        "cols = ['device_num', 'time_diff', 'purchase_week', 'country', 'ip_num']\n",
        "_ = model.partial_plot(data=train, cols=cols, nbins=200, figsize=(18, 20))"
      ],
      "execution_count": 24,
      "outputs": [
        {
          "output_type": "stream",
          "text": [
            "PartialDependencePlot progress: |█████████████████████████████████████████| 100%\n"
          ],
          "name": "stdout"
        },
        {
          "output_type": "display_data",
          "data": {
            "image/png": "[encoded data removed]",
            "text/plain": [
              "<Figure size 1296x1440 with 5 Axes>"
            ]
          },
          "metadata": {
            "tags": [],
            "needs_background": "light"
          }
        }
      ]
    },
    {
      "cell_type": "code",
      "metadata": {
        "id": "DYtVBmY68wbT"
      },
      "source": [
        "# shutdown h2o instance \n",
        "h2o.cluster().shutdown()"
      ],
      "execution_count": null,
      "outputs": []
    },
    {
      "cell_type": "markdown",
      "metadata": {
        "id": "4LMk7VaE-TaN"
      },
      "source": [
        "# Conclusion \n",
        "\n",
        "Product persepctive:\n",
        "\n",
        "You now have a model that assigns to each user a probability of committing a fraud. You want to think about creating different experiences based on that. For instance: \n",
        "\n",
        "1. If predicted fraud probability < X, the user has the normal experience (the high majority should fall here)\n",
        "2. If X <= predicted fraud probability < Z (so the user is at risk, but not too much), you can create an additional verification step, like verify your phone number via a code sent by SMS or log in via Facebook.\n",
        "3. If predicted fraud probability >= Z (so here is really likely the user is trying to commit a fraud), you can tell the user his session has been put on hold, send this user info to someone who reviews it manually and either blocks the user or decides it is not a fraud so the session is resumed.\n",
        "\n",
        "\n",
        "This is just an example and there are many different ways to build products around some fraud score. However, it is important because it highlights that a ML model is often really useful when it is combined with a product which is able to take advantage of its strengths and minimize its possible drawbacks (like false positives)."
      ]
    },
    {
      "cell_type": "code",
      "metadata": {
        "id": "M8UzYZjHBB-W"
      },
      "source": [
        ""
      ],
      "execution_count": null,
      "outputs": []
    }
  ]
}