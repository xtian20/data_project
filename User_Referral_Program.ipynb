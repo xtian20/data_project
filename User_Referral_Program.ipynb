{
  "nbformat": 4,
  "nbformat_minor": 0,
  "metadata": {
    "colab": {
      "name": "User_Referral_Program.ipynb",
      "provenance": [],
      "collapsed_sections": [],
      "authorship_tag": "ABX9TyPjyw7wZV6VLZF76XYjnP1x",
      "include_colab_link": true
    },
    "kernelspec": {
      "name": "python3",
      "display_name": "Python 3"
    }
  },
  "cells": [
    {
      "cell_type": "markdown",
      "metadata": {
        "id": "view-in-github",
        "colab_type": "text"
      },
      "source": [
        "<a href=\"https://colab.research.google.com/github/xtian20/data_project/blob/main/User_Referral_Program.ipynb\" target=\"_parent\"><img src=\"https://colab.research.google.com/assets/colab-badge.svg\" alt=\"Open In Colab\"/></a>"
      ]
    },
    {
      "cell_type": "code",
      "metadata": {
        "id": "vNjzzTXSXKRd"
      },
      "source": [
        "import numpy as np\n",
        "import pandas as pd \n",
        "from scipy.stats import ttest_ind\n",
        "\n",
        "import matplotlib.pyplot as plt \n",
        "import seaborn as sns\n",
        "%matplotlib inline \n",
        "\n",
        "import warnings \n",
        "warnings.filterwarnings('ignore')"
      ],
      "execution_count": 29,
      "outputs": []
    },
    {
      "cell_type": "markdown",
      "metadata": {
        "id": "087-QfVUYbTS"
      },
      "source": [
        "# Load Dataset "
      ]
    },
    {
      "cell_type": "code",
      "metadata": {
        "colab": {
          "base_uri": "https://localhost:8080/",
          "height": 204
        },
        "id": "5IZF-O8PYcr8",
        "outputId": "2bc99557-cf31-4dd4-8eb3-71d00fd7e435"
      },
      "source": [
        "data = pd.read_csv('referral.csv', parse_dates=['date'])\n",
        "data.head()"
      ],
      "execution_count": 6,
      "outputs": [
        {
          "output_type": "execute_result",
          "data": {
            "text/html": [
              "<div>\n",
              "<style scoped>\n",
              "    .dataframe tbody tr th:only-of-type {\n",
              "        vertical-align: middle;\n",
              "    }\n",
              "\n",
              "    .dataframe tbody tr th {\n",
              "        vertical-align: top;\n",
              "    }\n",
              "\n",
              "    .dataframe thead th {\n",
              "        text-align: right;\n",
              "    }\n",
              "</style>\n",
              "<table border=\"1\" class=\"dataframe\">\n",
              "  <thead>\n",
              "    <tr style=\"text-align: right;\">\n",
              "      <th></th>\n",
              "      <th>user_id</th>\n",
              "      <th>date</th>\n",
              "      <th>country</th>\n",
              "      <th>money_spent</th>\n",
              "      <th>is_referral</th>\n",
              "      <th>device_id</th>\n",
              "    </tr>\n",
              "  </thead>\n",
              "  <tbody>\n",
              "    <tr>\n",
              "      <th>0</th>\n",
              "      <td>2</td>\n",
              "      <td>2015-10-03</td>\n",
              "      <td>FR</td>\n",
              "      <td>65</td>\n",
              "      <td>0</td>\n",
              "      <td>EVDCJTZMVMJDG</td>\n",
              "    </tr>\n",
              "    <tr>\n",
              "      <th>1</th>\n",
              "      <td>3</td>\n",
              "      <td>2015-10-03</td>\n",
              "      <td>CA</td>\n",
              "      <td>54</td>\n",
              "      <td>0</td>\n",
              "      <td>WUBZFTVKXGQQX</td>\n",
              "    </tr>\n",
              "    <tr>\n",
              "      <th>2</th>\n",
              "      <td>6</td>\n",
              "      <td>2015-10-03</td>\n",
              "      <td>FR</td>\n",
              "      <td>35</td>\n",
              "      <td>0</td>\n",
              "      <td>CBAPCJRTFNUJG</td>\n",
              "    </tr>\n",
              "    <tr>\n",
              "      <th>3</th>\n",
              "      <td>7</td>\n",
              "      <td>2015-10-03</td>\n",
              "      <td>UK</td>\n",
              "      <td>73</td>\n",
              "      <td>0</td>\n",
              "      <td>PRGXJZAJKMXRH</td>\n",
              "    </tr>\n",
              "    <tr>\n",
              "      <th>4</th>\n",
              "      <td>7</td>\n",
              "      <td>2015-10-03</td>\n",
              "      <td>MX</td>\n",
              "      <td>35</td>\n",
              "      <td>0</td>\n",
              "      <td>PRGXJZAJKMXRH</td>\n",
              "    </tr>\n",
              "  </tbody>\n",
              "</table>\n",
              "</div>"
            ],
            "text/plain": [
              "   user_id       date country  money_spent  is_referral      device_id\n",
              "0        2 2015-10-03      FR           65            0  EVDCJTZMVMJDG\n",
              "1        3 2015-10-03      CA           54            0  WUBZFTVKXGQQX\n",
              "2        6 2015-10-03      FR           35            0  CBAPCJRTFNUJG\n",
              "3        7 2015-10-03      UK           73            0  PRGXJZAJKMXRH\n",
              "4        7 2015-10-03      MX           35            0  PRGXJZAJKMXRH"
            ]
          },
          "metadata": {
            "tags": []
          },
          "execution_count": 6
        }
      ]
    },
    {
      "cell_type": "code",
      "metadata": {
        "colab": {
          "base_uri": "https://localhost:8080/"
        },
        "id": "7uWeEGfZYjz7",
        "outputId": "abdf60f0-9251-41b3-a1ce-b81524c5941a"
      },
      "source": [
        "data.info()"
      ],
      "execution_count": 7,
      "outputs": [
        {
          "output_type": "stream",
          "text": [
            "<class 'pandas.core.frame.DataFrame'>\n",
            "RangeIndex: 97341 entries, 0 to 97340\n",
            "Data columns (total 6 columns):\n",
            " #   Column       Non-Null Count  Dtype         \n",
            "---  ------       --------------  -----         \n",
            " 0   user_id      97341 non-null  int64         \n",
            " 1   date         97341 non-null  datetime64[ns]\n",
            " 2   country      97341 non-null  object        \n",
            " 3   money_spent  97341 non-null  int64         \n",
            " 4   is_referral  97341 non-null  int64         \n",
            " 5   device_id    97341 non-null  object        \n",
            "dtypes: datetime64[ns](1), int64(3), object(2)\n",
            "memory usage: 4.5+ MB\n"
          ],
          "name": "stdout"
        }
      ]
    },
    {
      "cell_type": "code",
      "metadata": {
        "colab": {
          "base_uri": "https://localhost:8080/"
        },
        "id": "geL49LtzYtDG",
        "outputId": "1d8beef5-4402-4f39-a0bb-48c732d42dc1"
      },
      "source": [
        "print(f'Unique country: {len(data.country.unique())}')\n",
        "print(f'Unique user id: {len(data.user_id.unique())}')\n",
        "print(f'Unique device: {len(data.device_id.unique())}')"
      ],
      "execution_count": 11,
      "outputs": [
        {
          "output_type": "stream",
          "text": [
            "Unique country: 9\n",
            "Unique user id: 18809\n",
            "Unique device: 17887\n"
          ],
          "name": "stdout"
        }
      ]
    },
    {
      "cell_type": "markdown",
      "metadata": {
        "id": "jUH09FClZ2mS"
      },
      "source": [
        "# Data Processing "
      ]
    },
    {
      "cell_type": "code",
      "metadata": {
        "colab": {
          "base_uri": "https://localhost:8080/"
        },
        "id": "78dtpLmqalUd",
        "outputId": "54d9d1a9-11b6-499b-d9cb-97bb6490819e"
      },
      "source": [
        "data['date'].describe()"
      ],
      "execution_count": 19,
      "outputs": [
        {
          "output_type": "execute_result",
          "data": {
            "text/plain": [
              "count                   97341\n",
              "unique                     56\n",
              "top       2015-11-14 00:00:00\n",
              "freq                     3303\n",
              "first     2015-10-03 00:00:00\n",
              "last      2015-11-27 00:00:00\n",
              "Name: date, dtype: object"
            ]
          },
          "metadata": {
            "tags": []
          },
          "execution_count": 19
        }
      ]
    },
    {
      "cell_type": "code",
      "metadata": {
        "id": "Ie_MyOdAZ6oR"
      },
      "source": [
        "# extract date information \n",
        "data['day_of_week'] = data['date'].apply(lambda x: x.dayofweek)\n",
        "start_date = pd.to_datetime('2015-10-31')"
      ],
      "execution_count": 14,
      "outputs": []
    },
    {
      "cell_type": "code",
      "metadata": {
        "colab": {
          "base_uri": "https://localhost:8080/",
          "height": 204
        },
        "id": "DfbeSD9vZ39k",
        "outputId": "c42cd404-8755-4391-9281-6295179d1f4b"
      },
      "source": [
        "data.head()"
      ],
      "execution_count": 16,
      "outputs": [
        {
          "output_type": "execute_result",
          "data": {
            "text/html": [
              "<div>\n",
              "<style scoped>\n",
              "    .dataframe tbody tr th:only-of-type {\n",
              "        vertical-align: middle;\n",
              "    }\n",
              "\n",
              "    .dataframe tbody tr th {\n",
              "        vertical-align: top;\n",
              "    }\n",
              "\n",
              "    .dataframe thead th {\n",
              "        text-align: right;\n",
              "    }\n",
              "</style>\n",
              "<table border=\"1\" class=\"dataframe\">\n",
              "  <thead>\n",
              "    <tr style=\"text-align: right;\">\n",
              "      <th></th>\n",
              "      <th>user_id</th>\n",
              "      <th>date</th>\n",
              "      <th>country</th>\n",
              "      <th>money_spent</th>\n",
              "      <th>is_referral</th>\n",
              "      <th>device_id</th>\n",
              "      <th>day_of_week</th>\n",
              "    </tr>\n",
              "  </thead>\n",
              "  <tbody>\n",
              "    <tr>\n",
              "      <th>0</th>\n",
              "      <td>2</td>\n",
              "      <td>2015-10-03</td>\n",
              "      <td>FR</td>\n",
              "      <td>65</td>\n",
              "      <td>0</td>\n",
              "      <td>EVDCJTZMVMJDG</td>\n",
              "      <td>5</td>\n",
              "    </tr>\n",
              "    <tr>\n",
              "      <th>1</th>\n",
              "      <td>3</td>\n",
              "      <td>2015-10-03</td>\n",
              "      <td>CA</td>\n",
              "      <td>54</td>\n",
              "      <td>0</td>\n",
              "      <td>WUBZFTVKXGQQX</td>\n",
              "      <td>5</td>\n",
              "    </tr>\n",
              "    <tr>\n",
              "      <th>2</th>\n",
              "      <td>6</td>\n",
              "      <td>2015-10-03</td>\n",
              "      <td>FR</td>\n",
              "      <td>35</td>\n",
              "      <td>0</td>\n",
              "      <td>CBAPCJRTFNUJG</td>\n",
              "      <td>5</td>\n",
              "    </tr>\n",
              "    <tr>\n",
              "      <th>3</th>\n",
              "      <td>7</td>\n",
              "      <td>2015-10-03</td>\n",
              "      <td>UK</td>\n",
              "      <td>73</td>\n",
              "      <td>0</td>\n",
              "      <td>PRGXJZAJKMXRH</td>\n",
              "      <td>5</td>\n",
              "    </tr>\n",
              "    <tr>\n",
              "      <th>4</th>\n",
              "      <td>7</td>\n",
              "      <td>2015-10-03</td>\n",
              "      <td>MX</td>\n",
              "      <td>35</td>\n",
              "      <td>0</td>\n",
              "      <td>PRGXJZAJKMXRH</td>\n",
              "      <td>5</td>\n",
              "    </tr>\n",
              "  </tbody>\n",
              "</table>\n",
              "</div>"
            ],
            "text/plain": [
              "   user_id       date country  ...  is_referral      device_id day_of_week\n",
              "0        2 2015-10-03      FR  ...            0  EVDCJTZMVMJDG           5\n",
              "1        3 2015-10-03      CA  ...            0  WUBZFTVKXGQQX           5\n",
              "2        6 2015-10-03      FR  ...            0  CBAPCJRTFNUJG           5\n",
              "3        7 2015-10-03      UK  ...            0  PRGXJZAJKMXRH           5\n",
              "4        7 2015-10-03      MX  ...            0  PRGXJZAJKMXRH           5\n",
              "\n",
              "[5 rows x 7 columns]"
            ]
          },
          "metadata": {
            "tags": []
          },
          "execution_count": 16
        }
      ]
    },
    {
      "cell_type": "markdown",
      "metadata": {
        "id": "zV8VaXnbaVeG"
      },
      "source": [
        "# Data Visualization "
      ]
    },
    {
      "cell_type": "code",
      "metadata": {
        "colab": {
          "base_uri": "https://localhost:8080/",
          "height": 729
        },
        "id": "-Lew4kl_aW7h",
        "outputId": "a484ded3-c749-402e-f0c4-713a220bc238"
      },
      "source": [
        "# daily money spent \n",
        "fig, ax = plt.subplots(nrows=2, ncols=1, figsize=(18, 10))\n",
        "sns.countplot(x='date', data=data, ax=ax[0])\n",
        "ax[0].set_ylabel('Daily Transaction Number', fontsize=12)\n",
        "\n",
        "sns.barplot(x='date', y='money_spent', data=data, ax=ax[1])\n",
        "ax[1].set_ylabel('Daily Transaction Amount', fontsize=12)\n",
        "plt.tight_layout()\n",
        "plt.show();"
      ],
      "execution_count": 24,
      "outputs": [
        {
          "output_type": "display_data",
          "data": {
            "image/png": "[encoded data removed]",
            "text/plain": [
              "<Figure size 1296x720 with 2 Axes>"
            ]
          },
          "metadata": {
            "tags": [],
            "needs_background": "light"
          }
        }
      ]
    },
    {
      "cell_type": "code",
      "metadata": {
        "colab": {
          "base_uri": "https://localhost:8080/",
          "height": 873
        },
        "id": "nYT3km0vbVeJ",
        "outputId": "c793389a-75e1-4dbb-aec9-8e119b2d1fc2"
      },
      "source": [
        "# daily money spent visualization \n",
        "fig, ax = plt.subplots(nrows=2, ncols=1, figsize=(18, 12))\n",
        "sns.countplot(x='country', data=data, hue='is_referral', ax=ax[0])\n",
        "ax[0].set_ylabel('Country-wise Transaction Number', fontsize=12)\n",
        "\n",
        "sns.barplot(x='country', y='money_spent', hue='is_referral', data=data, ax=ax[1])\n",
        "ax[1].set_ylabel('Country-wise Transaction Amount', fontsize=12)\n",
        "plt.tight_layout()\n",
        "plt.show();"
      ],
      "execution_count": 25,
      "outputs": [
        {
          "output_type": "display_data",
          "data": {
            "image/png": "[encoded data removed]",
            "text/plain": [
              "<Figure size 1296x864 with 2 Axes>"
            ]
          },
          "metadata": {
            "tags": [],
            "needs_background": "light"
          }
        }
      ]
    },
    {
      "cell_type": "code",
      "metadata": {
        "colab": {
          "base_uri": "https://localhost:8080/",
          "height": 873
        },
        "id": "lW82iYSdclR1",
        "outputId": "02bb3e97-6f53-4b4c-b7b0-df52e8083f3d"
      },
      "source": [
        "# daily money spent visualization (Monday is 0, Sunday is 6)\n",
        "fig, ax = plt.subplots(nrows=2, ncols=1, figsize=(18, 12))\n",
        "sns.countplot(x='day_of_week', data=data, hue='is_referral', ax=ax[0])\n",
        "ax[0].set_ylabel('Day-wise Transaction Number', fontsize=12)\n",
        "\n",
        "sns.barplot(x='day_of_week', y='money_spent',data=data, hue='is_referral', ax=ax[1])\n",
        "ax[1].set_ylabel('Day-wise Transaction Amount', fontsize=12)\n",
        "plt.tight_layout()\n",
        "plt.show()"
      ],
      "execution_count": 26,
      "outputs": [
        {
          "output_type": "display_data",
          "data": {
            "image/png": "[encoded data removed]",
            "text/plain": [
              "<Figure size 1296x864 with 2 Axes>"
            ]
          },
          "metadata": {
            "tags": [],
            "needs_background": "light"
          }
        }
      ]
    },
    {
      "cell_type": "markdown",
      "metadata": {
        "id": "2gyd97eZgzJV"
      },
      "source": [
        "# Data Analysis "
      ]
    },
    {
      "cell_type": "markdown",
      "metadata": {
        "id": "RkJEmLH8j4OL"
      },
      "source": [
        "## Daily Analysis"
      ]
    },
    {
      "cell_type": "code",
      "metadata": {
        "id": "cuzITlKDg0Y4"
      },
      "source": [
        "def basic_stat(df):\n",
        "  '''\n",
        "  To calculate statistics. \n",
        "  '''\n",
        "  num_purchase = len(df)\n",
        "  total_money_spent = df['money_spent'].sum()\n",
        "  unique_user = len(df['user_id'].unique())\n",
        "  return pd.Series([num_purchase, total_money_spent, unique_user], index=['num_purchase', 'total_money_spent', 'unique_user'])"
      ],
      "execution_count": 27,
      "outputs": []
    },
    {
      "cell_type": "code",
      "metadata": {
        "id": "xgTPbWmBgmkv"
      },
      "source": [
        "def daily_stat(data):\n",
        "  grouped = data.groupby(['date']).apply(basic_stat).reset_index()\n",
        "  ref = grouped[grouped['date'] < start_date]\n",
        "  new = grouped[grouped['date'] >= start_date]\n",
        "\n",
        "  names = ['num_purchase', 'total_money_spent', 'unique_user']\n",
        "  vals = []\n",
        "  for name in names:\n",
        "    a = ref[name].values\n",
        "    b = new[name].values\n",
        "    # p-value should be one-side test\n",
        "    p_val = ttest_ind(a, b, equal_var=False)[1] / 2\n",
        "    vals.append(p_val)\n",
        "\n",
        "  return pd.Series(vals, index=names)"
      ],
      "execution_count": 52,
      "outputs": []
    },
    {
      "cell_type": "code",
      "metadata": {
        "colab": {
          "base_uri": "https://localhost:8080/"
        },
        "id": "KM7t2XAFiR7v",
        "outputId": "47b7f84c-72ed-4695-b241-8e7c603c1a3b"
      },
      "source": [
        "daily_stat(data)"
      ],
      "execution_count": 44,
      "outputs": [
        {
          "output_type": "execute_result",
          "data": {
            "text/plain": [
              "num_purchase         0.348257\n",
              "total_money_spent    0.135194\n",
              "unique_user          0.059545\n",
              "dtype: float64"
            ]
          },
          "metadata": {
            "tags": []
          },
          "execution_count": 44
        }
      ]
    },
    {
      "cell_type": "markdown",
      "metadata": {
        "id": "-tcksIc3j8X8"
      },
      "source": [
        "## Country-wise Analysis"
      ]
    },
    {
      "cell_type": "code",
      "metadata": {
        "colab": {
          "base_uri": "https://localhost:8080/",
          "height": 328
        },
        "id": "DaWJE_7aj9_m",
        "outputId": "d9c4482b-e1ab-4bf5-a739-f2910da139fa"
      },
      "source": [
        "data.groupby('country').apply(daily_stat).reset_index()"
      ],
      "execution_count": 53,
      "outputs": [
        {
          "output_type": "execute_result",
          "data": {
            "text/html": [
              "<div>\n",
              "<style scoped>\n",
              "    .dataframe tbody tr th:only-of-type {\n",
              "        vertical-align: middle;\n",
              "    }\n",
              "\n",
              "    .dataframe tbody tr th {\n",
              "        vertical-align: top;\n",
              "    }\n",
              "\n",
              "    .dataframe thead th {\n",
              "        text-align: right;\n",
              "    }\n",
              "</style>\n",
              "<table border=\"1\" class=\"dataframe\">\n",
              "  <thead>\n",
              "    <tr style=\"text-align: right;\">\n",
              "      <th></th>\n",
              "      <th>country</th>\n",
              "      <th>num_purchase</th>\n",
              "      <th>total_money_spent</th>\n",
              "      <th>unique_user</th>\n",
              "    </tr>\n",
              "  </thead>\n",
              "  <tbody>\n",
              "    <tr>\n",
              "      <th>0</th>\n",
              "      <td>CA</td>\n",
              "      <td>0.233985</td>\n",
              "      <td>0.351704</td>\n",
              "      <td>0.268256</td>\n",
              "    </tr>\n",
              "    <tr>\n",
              "      <th>1</th>\n",
              "      <td>CH</td>\n",
              "      <td>0.003072</td>\n",
              "      <td>0.006941</td>\n",
              "      <td>0.003142</td>\n",
              "    </tr>\n",
              "    <tr>\n",
              "      <th>2</th>\n",
              "      <td>DE</td>\n",
              "      <td>0.011798</td>\n",
              "      <td>0.081459</td>\n",
              "      <td>0.015665</td>\n",
              "    </tr>\n",
              "    <tr>\n",
              "      <th>3</th>\n",
              "      <td>ES</td>\n",
              "      <td>0.072638</td>\n",
              "      <td>0.037522</td>\n",
              "      <td>0.057954</td>\n",
              "    </tr>\n",
              "    <tr>\n",
              "      <th>4</th>\n",
              "      <td>FR</td>\n",
              "      <td>0.058996</td>\n",
              "      <td>0.031843</td>\n",
              "      <td>0.041124</td>\n",
              "    </tr>\n",
              "    <tr>\n",
              "      <th>5</th>\n",
              "      <td>IT</td>\n",
              "      <td>0.057454</td>\n",
              "      <td>0.025730</td>\n",
              "      <td>0.043911</td>\n",
              "    </tr>\n",
              "    <tr>\n",
              "      <th>6</th>\n",
              "      <td>MX</td>\n",
              "      <td>0.032430</td>\n",
              "      <td>0.009670</td>\n",
              "      <td>0.026203</td>\n",
              "    </tr>\n",
              "    <tr>\n",
              "      <th>7</th>\n",
              "      <td>UK</td>\n",
              "      <td>0.261183</td>\n",
              "      <td>0.048490</td>\n",
              "      <td>0.204398</td>\n",
              "    </tr>\n",
              "    <tr>\n",
              "      <th>8</th>\n",
              "      <td>US</td>\n",
              "      <td>0.307801</td>\n",
              "      <td>0.248874</td>\n",
              "      <td>0.368860</td>\n",
              "    </tr>\n",
              "  </tbody>\n",
              "</table>\n",
              "</div>"
            ],
            "text/plain": [
              "  country  num_purchase  total_money_spent  unique_user\n",
              "0      CA      0.233985           0.351704     0.268256\n",
              "1      CH      0.003072           0.006941     0.003142\n",
              "2      DE      0.011798           0.081459     0.015665\n",
              "3      ES      0.072638           0.037522     0.057954\n",
              "4      FR      0.058996           0.031843     0.041124\n",
              "5      IT      0.057454           0.025730     0.043911\n",
              "6      MX      0.032430           0.009670     0.026203\n",
              "7      UK      0.261183           0.048490     0.204398\n",
              "8      US      0.307801           0.248874     0.368860"
            ]
          },
          "metadata": {
            "tags": []
          },
          "execution_count": 53
        }
      ]
    },
    {
      "cell_type": "markdown",
      "metadata": {
        "id": "g2PPX8FzkZl8"
      },
      "source": [
        "## Day-of-Week-wise Analysis"
      ]
    },
    {
      "cell_type": "code",
      "metadata": {
        "colab": {
          "base_uri": "https://localhost:8080/",
          "height": 266
        },
        "id": "F7WTEEYRkcn7",
        "outputId": "e4d33496-eab4-480d-96e2-71af0c0d22c7"
      },
      "source": [
        "data.groupby('day_of_week').apply(daily_stat).reset_index()"
      ],
      "execution_count": 54,
      "outputs": [
        {
          "output_type": "execute_result",
          "data": {
            "text/html": [
              "<div>\n",
              "<style scoped>\n",
              "    .dataframe tbody tr th:only-of-type {\n",
              "        vertical-align: middle;\n",
              "    }\n",
              "\n",
              "    .dataframe tbody tr th {\n",
              "        vertical-align: top;\n",
              "    }\n",
              "\n",
              "    .dataframe thead th {\n",
              "        text-align: right;\n",
              "    }\n",
              "</style>\n",
              "<table border=\"1\" class=\"dataframe\">\n",
              "  <thead>\n",
              "    <tr style=\"text-align: right;\">\n",
              "      <th></th>\n",
              "      <th>day_of_week</th>\n",
              "      <th>num_purchase</th>\n",
              "      <th>total_money_spent</th>\n",
              "      <th>unique_user</th>\n",
              "    </tr>\n",
              "  </thead>\n",
              "  <tbody>\n",
              "    <tr>\n",
              "      <th>0</th>\n",
              "      <td>0</td>\n",
              "      <td>0.012484</td>\n",
              "      <td>0.000368</td>\n",
              "      <td>0.000665</td>\n",
              "    </tr>\n",
              "    <tr>\n",
              "      <th>1</th>\n",
              "      <td>1</td>\n",
              "      <td>0.156965</td>\n",
              "      <td>0.007701</td>\n",
              "      <td>0.008802</td>\n",
              "    </tr>\n",
              "    <tr>\n",
              "      <th>2</th>\n",
              "      <td>2</td>\n",
              "      <td>0.009713</td>\n",
              "      <td>0.000301</td>\n",
              "      <td>0.001270</td>\n",
              "    </tr>\n",
              "    <tr>\n",
              "      <th>3</th>\n",
              "      <td>3</td>\n",
              "      <td>0.016584</td>\n",
              "      <td>0.000675</td>\n",
              "      <td>0.002578</td>\n",
              "    </tr>\n",
              "    <tr>\n",
              "      <th>4</th>\n",
              "      <td>4</td>\n",
              "      <td>0.016875</td>\n",
              "      <td>0.000595</td>\n",
              "      <td>0.000683</td>\n",
              "    </tr>\n",
              "    <tr>\n",
              "      <th>5</th>\n",
              "      <td>5</td>\n",
              "      <td>0.006828</td>\n",
              "      <td>0.000107</td>\n",
              "      <td>0.000125</td>\n",
              "    </tr>\n",
              "    <tr>\n",
              "      <th>6</th>\n",
              "      <td>6</td>\n",
              "      <td>0.011717</td>\n",
              "      <td>0.000133</td>\n",
              "      <td>0.000012</td>\n",
              "    </tr>\n",
              "  </tbody>\n",
              "</table>\n",
              "</div>"
            ],
            "text/plain": [
              "   day_of_week  num_purchase  total_money_spent  unique_user\n",
              "0            0      0.012484           0.000368     0.000665\n",
              "1            1      0.156965           0.007701     0.008802\n",
              "2            2      0.009713           0.000301     0.001270\n",
              "3            3      0.016584           0.000675     0.002578\n",
              "4            4      0.016875           0.000595     0.000683\n",
              "5            5      0.006828           0.000107     0.000125\n",
              "6            6      0.011717           0.000133     0.000012"
            ]
          },
          "metadata": {
            "tags": []
          },
          "execution_count": 54
        }
      ]
    },
    {
      "cell_type": "markdown",
      "metadata": {
        "id": "KYZvCiCim2HK"
      },
      "source": [
        "# Insights"
      ]
    },
    {
      "cell_type": "markdown",
      "metadata": {
        "id": "ICisP9_3m7i1"
      },
      "source": [
        "## Question 1:\n",
        "\n",
        "According to the analysis above, the program doesn't seem have significant impacts to the whole company as a whole.\n",
        "\n",
        "However, based on each country, I find the program has different impact on different country:\n",
        "\n",
        "the program fails in CH and DE, it significantly decrease the sales in these two countries.\n",
        "the program succeeds in 'MX','IT','FR','ES', it significantly increase the sales.\n",
        "the program doesn't seem have any significant effect on UK,CA,US, especially on CA and US."
      ]
    },
    {
      "cell_type": "markdown",
      "metadata": {
        "id": "r_H7cHi_nUu-"
      },
      "source": [
        "## Question 2\n",
        "\n",
        "first I suggest perform more accurate A/B test (see question 3's answer) and collect more data, to study the impact of the program\n",
        "since the program has different impact in different country, I suggest studying the reason of such difference. for example, does the program has any cultural conflicts in CH and DE?"
      ]
    },
    {
      "cell_type": "markdown",
      "metadata": {
        "id": "qUplTSwancsM"
      },
      "source": [
        "## Question 3\n",
        "\n",
        "This approach isn't an accurate A/B test. \"User Referral\" program isn't the only difference between control group and test group. for example, there may be some special holiday after Oct 31 in some country. or just because the weather get colder after Oct 31, people's requirement on some goods are increased.\n",
        "\n",
        "To get more accurate impact of the program, we need to perform a more careful A/B test. for example:\n",
        "\n",
        "during the same peroid of time\n",
        "randomly split the customers into two groups, and let only one group know the User Referral program.\n",
        "run the experiment some time, then perform the t-test to see whether some 'sale performance index' (e.g., daily spent, daily customers, daily transactions) have significant changes or not."
      ]
    },
    {
      "cell_type": "code",
      "metadata": {
        "id": "jFCAuVGrnYiV"
      },
      "source": [
        ""
      ],
      "execution_count": null,
      "outputs": []
    }
  ]
}